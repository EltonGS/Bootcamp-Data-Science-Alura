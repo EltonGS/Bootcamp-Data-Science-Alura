{
  "nbformat": 4,
  "nbformat_minor": 0,
  "metadata": {
    "colab": {
      "name": "Modulo2_Aulas",
      "provenance": [],
      "authorship_tag": "ABX9TyOIiFTJz4ow/+kj52xsTBPT",
      "include_colab_link": true
    },
    "kernelspec": {
      "name": "python3",
      "display_name": "Python 3"
    },
    "language_info": {
      "name": "python"
    }
  },
  "cells": [
    {
      "cell_type": "markdown",
      "metadata": {
        "id": "view-in-github",
        "colab_type": "text"
      },
      "source": [
        "<a href=\"https://colab.research.google.com/github/EltonGS/Bootcamp-Data-Science-Alura/blob/main/Modulo2/Modulo2_Aulas.ipynb\" target=\"_parent\"><img src=\"https://colab.research.google.com/assets/colab-badge.svg\" alt=\"Open In Colab\"/></a>"
      ]
    },
    {
      "cell_type": "code",
      "metadata": {
        "colab": {
          "base_uri": "https://localhost:8080/",
          "height": 403
        },
        "id": "a3rTKc0Cp00o",
        "outputId": "e7e92582-5fde-4931-bb8c-252b97cb9b8a"
      },
      "source": [
        "# importando as bibliotecas Pandas e matplotlib \n",
        "import pandas as pd\n",
        "import matplotlib.pyplot as plt\n",
        "import matplotlib.ticker as ticker\n",
        "\n",
        "\n",
        "#encoding é usado para informar a padronização utilizada no arquivo\n",
        "# thousands e decimal são utilizados para indicar qual o separador de milhar e casas decimais usado no arquivo\n",
        "dados_atd = pd.read_csv('https://raw.githubusercontent.com/EltonGS/Bootcamp-Data-Science-Alura/main/atendimento.csv', encoding='ISO-8859-1', skiprows = 3, sep=';',\n",
        "                    skipfooter = 12, thousands = '.', decimal = ',') \n",
        "\n",
        "# mostrar os números do tipo float com 2 casas decimais\n",
        "pd.options.display.float_format = '{:.2f}'.format\n",
        "\n",
        "colunas_usaveis = dados_atd.mean().index.tolist() \n",
        "colunas_usaveis.insert(0, 'Unidade da Federação')\n",
        "usaveis = dados_atd[colunas_usaveis]\n",
        "usaveis = usaveis.set_index('Unidade da Federação')\n",
        "usaveis = usaveis.drop(['Total', '2021/Jan', '2021/Fev', '2021/Mar'], axis = 1)\n",
        "\n",
        "usaveis['Total'] =  usaveis.sum(axis=1)\n",
        "ordenado_por_total = usaveis.sort_values('Total', ascending=False)\n",
        "ordenado_por_total = ordenado_por_total.drop('Total', axis = 1)\n",
        "\n",
        "# Na coluna 2008/Jan vemos um valor muito acima do padrão para os estados, isso traz uma distorção na visualização dos dados\n",
        "# selecionando o nome das colunas a partir de 2008/Jan\n",
        "colunas_interessadas = ordenado_por_total.columns[6:]\n",
        "\n",
        "# atribuindo o valor do dataframe informando as colunas a partir de 2008/Jan\n",
        "ordenado_por_total = ordenado_por_total[colunas_interessadas]\n",
        "\n",
        "# dividingo por 1 milhão para que o eixo Y fique mais simples de ler\n",
        "ordenado_por_total_milhoes = ordenado_por_total / 1000000\n",
        "\n",
        "usaveis.head()"
      ],
      "execution_count": 1,
      "outputs": [
        {
          "output_type": "stream",
          "text": [
            "/usr/local/lib/python3.7/dist-packages/ipykernel_launcher.py:10: ParserWarning: Falling back to the 'python' engine because the 'c' engine does not support skipfooter; you can avoid this warning by specifying engine='python'.\n",
            "  # Remove the CWD from sys.path while we load stuff.\n"
          ],
          "name": "stderr"
        },
        {
          "output_type": "execute_result",
          "data": {
            "text/html": [
              "<div>\n",
              "<style scoped>\n",
              "    .dataframe tbody tr th:only-of-type {\n",
              "        vertical-align: middle;\n",
              "    }\n",
              "\n",
              "    .dataframe tbody tr th {\n",
              "        vertical-align: top;\n",
              "    }\n",
              "\n",
              "    .dataframe thead th {\n",
              "        text-align: right;\n",
              "    }\n",
              "</style>\n",
              "<table border=\"1\" class=\"dataframe\">\n",
              "  <thead>\n",
              "    <tr style=\"text-align: right;\">\n",
              "      <th></th>\n",
              "      <th>2007/Ago</th>\n",
              "      <th>2007/Set</th>\n",
              "      <th>2007/Out</th>\n",
              "      <th>2007/Nov</th>\n",
              "      <th>2007/Dez</th>\n",
              "      <th>2008/Jan</th>\n",
              "      <th>2008/Fev</th>\n",
              "      <th>2008/Mar</th>\n",
              "      <th>2008/Abr</th>\n",
              "      <th>2008/Mai</th>\n",
              "      <th>2008/Jun</th>\n",
              "      <th>2008/Jul</th>\n",
              "      <th>2008/Ago</th>\n",
              "      <th>2008/Set</th>\n",
              "      <th>2008/Out</th>\n",
              "      <th>2008/Nov</th>\n",
              "      <th>2008/Dez</th>\n",
              "      <th>2009/Jan</th>\n",
              "      <th>2009/Fev</th>\n",
              "      <th>2009/Mar</th>\n",
              "      <th>2009/Abr</th>\n",
              "      <th>2009/Mai</th>\n",
              "      <th>2009/Jun</th>\n",
              "      <th>2009/Jul</th>\n",
              "      <th>2009/Ago</th>\n",
              "      <th>2009/Set</th>\n",
              "      <th>2009/Out</th>\n",
              "      <th>2009/Nov</th>\n",
              "      <th>2009/Dez</th>\n",
              "      <th>2010/Jan</th>\n",
              "      <th>2010/Fev</th>\n",
              "      <th>2010/Mar</th>\n",
              "      <th>2010/Abr</th>\n",
              "      <th>2010/Mai</th>\n",
              "      <th>2010/Jun</th>\n",
              "      <th>2010/Jul</th>\n",
              "      <th>2010/Ago</th>\n",
              "      <th>2010/Set</th>\n",
              "      <th>2010/Out</th>\n",
              "      <th>2010/Nov</th>\n",
              "      <th>...</th>\n",
              "      <th>2017/Out</th>\n",
              "      <th>2017/Nov</th>\n",
              "      <th>2017/Dez</th>\n",
              "      <th>2018/Jan</th>\n",
              "      <th>2018/Fev</th>\n",
              "      <th>2018/Mar</th>\n",
              "      <th>2018/Abr</th>\n",
              "      <th>2018/Mai</th>\n",
              "      <th>2018/Jun</th>\n",
              "      <th>2018/Jul</th>\n",
              "      <th>2018/Ago</th>\n",
              "      <th>2018/Set</th>\n",
              "      <th>2018/Out</th>\n",
              "      <th>2018/Nov</th>\n",
              "      <th>2018/Dez</th>\n",
              "      <th>2019/Jan</th>\n",
              "      <th>2019/Fev</th>\n",
              "      <th>2019/Mar</th>\n",
              "      <th>2019/Abr</th>\n",
              "      <th>2019/Mai</th>\n",
              "      <th>2019/Jun</th>\n",
              "      <th>2019/Jul</th>\n",
              "      <th>2019/Ago</th>\n",
              "      <th>2019/Set</th>\n",
              "      <th>2019/Out</th>\n",
              "      <th>2019/Nov</th>\n",
              "      <th>2019/Dez</th>\n",
              "      <th>2020/Jan</th>\n",
              "      <th>2020/Fev</th>\n",
              "      <th>2020/Mar</th>\n",
              "      <th>2020/Abr</th>\n",
              "      <th>2020/Mai</th>\n",
              "      <th>2020/Jun</th>\n",
              "      <th>2020/Jul</th>\n",
              "      <th>2020/Ago</th>\n",
              "      <th>2020/Set</th>\n",
              "      <th>2020/Out</th>\n",
              "      <th>2020/Nov</th>\n",
              "      <th>2020/Dez</th>\n",
              "      <th>Total</th>\n",
              "    </tr>\n",
              "    <tr>\n",
              "      <th>Unidade da Federação</th>\n",
              "      <th></th>\n",
              "      <th></th>\n",
              "      <th></th>\n",
              "      <th></th>\n",
              "      <th></th>\n",
              "      <th></th>\n",
              "      <th></th>\n",
              "      <th></th>\n",
              "      <th></th>\n",
              "      <th></th>\n",
              "      <th></th>\n",
              "      <th></th>\n",
              "      <th></th>\n",
              "      <th></th>\n",
              "      <th></th>\n",
              "      <th></th>\n",
              "      <th></th>\n",
              "      <th></th>\n",
              "      <th></th>\n",
              "      <th></th>\n",
              "      <th></th>\n",
              "      <th></th>\n",
              "      <th></th>\n",
              "      <th></th>\n",
              "      <th></th>\n",
              "      <th></th>\n",
              "      <th></th>\n",
              "      <th></th>\n",
              "      <th></th>\n",
              "      <th></th>\n",
              "      <th></th>\n",
              "      <th></th>\n",
              "      <th></th>\n",
              "      <th></th>\n",
              "      <th></th>\n",
              "      <th></th>\n",
              "      <th></th>\n",
              "      <th></th>\n",
              "      <th></th>\n",
              "      <th></th>\n",
              "      <th></th>\n",
              "      <th></th>\n",
              "      <th></th>\n",
              "      <th></th>\n",
              "      <th></th>\n",
              "      <th></th>\n",
              "      <th></th>\n",
              "      <th></th>\n",
              "      <th></th>\n",
              "      <th></th>\n",
              "      <th></th>\n",
              "      <th></th>\n",
              "      <th></th>\n",
              "      <th></th>\n",
              "      <th></th>\n",
              "      <th></th>\n",
              "      <th></th>\n",
              "      <th></th>\n",
              "      <th></th>\n",
              "      <th></th>\n",
              "      <th></th>\n",
              "      <th></th>\n",
              "      <th></th>\n",
              "      <th></th>\n",
              "      <th></th>\n",
              "      <th></th>\n",
              "      <th></th>\n",
              "      <th></th>\n",
              "      <th></th>\n",
              "      <th></th>\n",
              "      <th></th>\n",
              "      <th></th>\n",
              "      <th></th>\n",
              "      <th></th>\n",
              "      <th></th>\n",
              "      <th></th>\n",
              "      <th></th>\n",
              "      <th></th>\n",
              "      <th></th>\n",
              "      <th></th>\n",
              "      <th></th>\n",
              "    </tr>\n",
              "  </thead>\n",
              "  <tbody>\n",
              "    <tr>\n",
              "      <th>11 Rondônia</th>\n",
              "      <td>4209.37</td>\n",
              "      <td>16397.03</td>\n",
              "      <td>133645.19</td>\n",
              "      <td>346912.84</td>\n",
              "      <td>711758.31</td>\n",
              "      <td>1829559.71</td>\n",
              "      <td>1940792.63</td>\n",
              "      <td>1955721.68</td>\n",
              "      <td>2143353.81</td>\n",
              "      <td>2280382.58</td>\n",
              "      <td>2624542.97</td>\n",
              "      <td>2973421.02</td>\n",
              "      <td>2938286.29</td>\n",
              "      <td>2843930.91</td>\n",
              "      <td>2878153.20</td>\n",
              "      <td>2780022.62</td>\n",
              "      <td>2651804.89</td>\n",
              "      <td>3147566.24</td>\n",
              "      <td>3082108.12</td>\n",
              "      <td>4190355.33</td>\n",
              "      <td>4040251.62</td>\n",
              "      <td>3946423.71</td>\n",
              "      <td>3372377.96</td>\n",
              "      <td>3720608.86</td>\n",
              "      <td>3787323.26</td>\n",
              "      <td>3679369.94</td>\n",
              "      <td>3866146.99</td>\n",
              "      <td>3667808.60</td>\n",
              "      <td>3633471.79</td>\n",
              "      <td>3812315.59</td>\n",
              "      <td>3911776.03</td>\n",
              "      <td>4663060.75</td>\n",
              "      <td>4524544.88</td>\n",
              "      <td>4778755.26</td>\n",
              "      <td>4369733.23</td>\n",
              "      <td>4632439.12</td>\n",
              "      <td>4464307.47</td>\n",
              "      <td>4668642.02</td>\n",
              "      <td>4490368.23</td>\n",
              "      <td>4423840.08</td>\n",
              "      <td>...</td>\n",
              "      <td>8603943.85</td>\n",
              "      <td>8048398.25</td>\n",
              "      <td>8159737.49</td>\n",
              "      <td>8457455.71</td>\n",
              "      <td>7766983.20</td>\n",
              "      <td>8858845.57</td>\n",
              "      <td>8407076.44</td>\n",
              "      <td>9492938.92</td>\n",
              "      <td>8206195.92</td>\n",
              "      <td>9011612.58</td>\n",
              "      <td>9124967.84</td>\n",
              "      <td>8406732.72</td>\n",
              "      <td>8411360.02</td>\n",
              "      <td>8651081.66</td>\n",
              "      <td>8193425.99</td>\n",
              "      <td>8388269.45</td>\n",
              "      <td>8645315.78</td>\n",
              "      <td>9050329.13</td>\n",
              "      <td>9211262.51</td>\n",
              "      <td>9490545.02</td>\n",
              "      <td>8600886.20</td>\n",
              "      <td>8919190.86</td>\n",
              "      <td>8909111.89</td>\n",
              "      <td>8409386.09</td>\n",
              "      <td>8924348.41</td>\n",
              "      <td>8948605.66</td>\n",
              "      <td>8660753.05</td>\n",
              "      <td>8327665.97</td>\n",
              "      <td>8431334.62</td>\n",
              "      <td>7251287.20</td>\n",
              "      <td>7490440.60</td>\n",
              "      <td>8957706.45</td>\n",
              "      <td>10993332.84</td>\n",
              "      <td>10479989.36</td>\n",
              "      <td>11433467.56</td>\n",
              "      <td>8876900.39</td>\n",
              "      <td>8167253.19</td>\n",
              "      <td>8759013.71</td>\n",
              "      <td>9003402.23</td>\n",
              "      <td>977224099.12</td>\n",
              "    </tr>\n",
              "    <tr>\n",
              "      <th>12 Acre</th>\n",
              "      <td>10470.07</td>\n",
              "      <td>14001.71</td>\n",
              "      <td>86200.85</td>\n",
              "      <td>301323.68</td>\n",
              "      <td>769612.36</td>\n",
              "      <td>1731744.62</td>\n",
              "      <td>1743978.66</td>\n",
              "      <td>2057439.02</td>\n",
              "      <td>2057829.69</td>\n",
              "      <td>2226577.93</td>\n",
              "      <td>2112576.82</td>\n",
              "      <td>2029128.01</td>\n",
              "      <td>1886871.84</td>\n",
              "      <td>2084884.80</td>\n",
              "      <td>2230838.45</td>\n",
              "      <td>2122013.12</td>\n",
              "      <td>2196651.69</td>\n",
              "      <td>2152239.30</td>\n",
              "      <td>2086775.61</td>\n",
              "      <td>2476364.26</td>\n",
              "      <td>2396887.63</td>\n",
              "      <td>2610261.80</td>\n",
              "      <td>2174098.10</td>\n",
              "      <td>2051885.16</td>\n",
              "      <td>1714707.91</td>\n",
              "      <td>1341532.34</td>\n",
              "      <td>2288458.90</td>\n",
              "      <td>2462712.79</td>\n",
              "      <td>2254900.20</td>\n",
              "      <td>2381535.93</td>\n",
              "      <td>2079981.05</td>\n",
              "      <td>2564837.77</td>\n",
              "      <td>2588318.06</td>\n",
              "      <td>2538525.67</td>\n",
              "      <td>2319786.41</td>\n",
              "      <td>2279156.60</td>\n",
              "      <td>2454599.37</td>\n",
              "      <td>2578923.75</td>\n",
              "      <td>2625443.29</td>\n",
              "      <td>2512995.15</td>\n",
              "      <td>...</td>\n",
              "      <td>3358378.05</td>\n",
              "      <td>3145385.44</td>\n",
              "      <td>2638773.92</td>\n",
              "      <td>2968168.75</td>\n",
              "      <td>2769797.39</td>\n",
              "      <td>3057631.96</td>\n",
              "      <td>2874965.31</td>\n",
              "      <td>3175575.17</td>\n",
              "      <td>3060903.21</td>\n",
              "      <td>3253011.61</td>\n",
              "      <td>3040645.05</td>\n",
              "      <td>2926179.27</td>\n",
              "      <td>3126120.64</td>\n",
              "      <td>2473454.85</td>\n",
              "      <td>2277493.49</td>\n",
              "      <td>2594347.32</td>\n",
              "      <td>2234388.36</td>\n",
              "      <td>2473008.49</td>\n",
              "      <td>2979764.77</td>\n",
              "      <td>3070533.95</td>\n",
              "      <td>3249052.69</td>\n",
              "      <td>3567538.64</td>\n",
              "      <td>2981072.98</td>\n",
              "      <td>2998860.31</td>\n",
              "      <td>3293378.97</td>\n",
              "      <td>3174249.43</td>\n",
              "      <td>2959569.09</td>\n",
              "      <td>3276790.55</td>\n",
              "      <td>2985763.71</td>\n",
              "      <td>2939675.20</td>\n",
              "      <td>2672857.33</td>\n",
              "      <td>2940827.86</td>\n",
              "      <td>3914823.86</td>\n",
              "      <td>4053085.41</td>\n",
              "      <td>3658265.59</td>\n",
              "      <td>3470409.45</td>\n",
              "      <td>3267918.69</td>\n",
              "      <td>3393958.27</td>\n",
              "      <td>3711660.71</td>\n",
              "      <td>443631609.94</td>\n",
              "    </tr>\n",
              "    <tr>\n",
              "      <th>13 Amazonas</th>\n",
              "      <td>35752.72</td>\n",
              "      <td>45570.64</td>\n",
              "      <td>416012.30</td>\n",
              "      <td>2020381.79</td>\n",
              "      <td>5949408.99</td>\n",
              "      <td>11419210.08</td>\n",
              "      <td>7934652.10</td>\n",
              "      <td>8641517.13</td>\n",
              "      <td>8531576.49</td>\n",
              "      <td>9079902.15</td>\n",
              "      <td>8646295.77</td>\n",
              "      <td>8755806.50</td>\n",
              "      <td>8331763.97</td>\n",
              "      <td>8148089.92</td>\n",
              "      <td>7681661.02</td>\n",
              "      <td>7761445.21</td>\n",
              "      <td>7764782.66</td>\n",
              "      <td>8607222.74</td>\n",
              "      <td>8385962.92</td>\n",
              "      <td>9207129.28</td>\n",
              "      <td>8160517.20</td>\n",
              "      <td>8562322.43</td>\n",
              "      <td>9484998.71</td>\n",
              "      <td>9465068.52</td>\n",
              "      <td>9267006.58</td>\n",
              "      <td>9092823.55</td>\n",
              "      <td>9218407.34</td>\n",
              "      <td>8674068.02</td>\n",
              "      <td>8365788.46</td>\n",
              "      <td>9386945.03</td>\n",
              "      <td>8373048.81</td>\n",
              "      <td>10321150.01</td>\n",
              "      <td>9990164.13</td>\n",
              "      <td>9767161.23</td>\n",
              "      <td>9151838.50</td>\n",
              "      <td>9140196.88</td>\n",
              "      <td>9437224.41</td>\n",
              "      <td>9742680.49</td>\n",
              "      <td>9996686.44</td>\n",
              "      <td>9532878.27</td>\n",
              "      <td>...</td>\n",
              "      <td>13895515.90</td>\n",
              "      <td>13518116.80</td>\n",
              "      <td>13635186.02</td>\n",
              "      <td>14549450.86</td>\n",
              "      <td>12753555.36</td>\n",
              "      <td>14749409.47</td>\n",
              "      <td>14577930.81</td>\n",
              "      <td>15381061.96</td>\n",
              "      <td>14653650.77</td>\n",
              "      <td>15544595.79</td>\n",
              "      <td>16374961.41</td>\n",
              "      <td>15343340.93</td>\n",
              "      <td>16249963.61</td>\n",
              "      <td>14255408.82</td>\n",
              "      <td>14274053.94</td>\n",
              "      <td>15358914.00</td>\n",
              "      <td>14100074.56</td>\n",
              "      <td>16103971.89</td>\n",
              "      <td>16154491.82</td>\n",
              "      <td>16529976.06</td>\n",
              "      <td>15509984.83</td>\n",
              "      <td>16642220.71</td>\n",
              "      <td>16493719.52</td>\n",
              "      <td>15351607.47</td>\n",
              "      <td>16339427.95</td>\n",
              "      <td>14821977.50</td>\n",
              "      <td>14965815.90</td>\n",
              "      <td>15982353.42</td>\n",
              "      <td>15166470.82</td>\n",
              "      <td>14815958.58</td>\n",
              "      <td>16379386.07</td>\n",
              "      <td>19625325.21</td>\n",
              "      <td>18433057.47</td>\n",
              "      <td>19303743.16</td>\n",
              "      <td>18687233.58</td>\n",
              "      <td>18628627.49</td>\n",
              "      <td>18728251.20</td>\n",
              "      <td>20451573.77</td>\n",
              "      <td>21546059.48</td>\n",
              "      <td>1872327626.21</td>\n",
              "    </tr>\n",
              "    <tr>\n",
              "      <th>14 Roraima</th>\n",
              "      <td>4785.91</td>\n",
              "      <td>11858.63</td>\n",
              "      <td>43852.67</td>\n",
              "      <td>369328.51</td>\n",
              "      <td>470676.43</td>\n",
              "      <td>808448.39</td>\n",
              "      <td>771687.83</td>\n",
              "      <td>876091.18</td>\n",
              "      <td>896952.53</td>\n",
              "      <td>1027288.73</td>\n",
              "      <td>938293.54</td>\n",
              "      <td>1004340.44</td>\n",
              "      <td>1045291.11</td>\n",
              "      <td>1003740.89</td>\n",
              "      <td>1055063.43</td>\n",
              "      <td>1223200.73</td>\n",
              "      <td>1236529.18</td>\n",
              "      <td>1186281.36</td>\n",
              "      <td>1106225.18</td>\n",
              "      <td>1422690.18</td>\n",
              "      <td>1377859.19</td>\n",
              "      <td>1363883.01</td>\n",
              "      <td>1346660.89</td>\n",
              "      <td>1371019.37</td>\n",
              "      <td>1529696.18</td>\n",
              "      <td>1573418.68</td>\n",
              "      <td>1517391.92</td>\n",
              "      <td>1597811.24</td>\n",
              "      <td>1536941.82</td>\n",
              "      <td>1617781.76</td>\n",
              "      <td>1452295.35</td>\n",
              "      <td>1817004.16</td>\n",
              "      <td>1715762.10</td>\n",
              "      <td>1933733.03</td>\n",
              "      <td>1849065.95</td>\n",
              "      <td>1877204.62</td>\n",
              "      <td>2046063.98</td>\n",
              "      <td>1939488.67</td>\n",
              "      <td>1757675.71</td>\n",
              "      <td>1528245.34</td>\n",
              "      <td>...</td>\n",
              "      <td>2693726.29</td>\n",
              "      <td>2671451.53</td>\n",
              "      <td>2688315.70</td>\n",
              "      <td>2740952.07</td>\n",
              "      <td>2478349.44</td>\n",
              "      <td>2674958.94</td>\n",
              "      <td>2721261.19</td>\n",
              "      <td>2844811.66</td>\n",
              "      <td>2967161.35</td>\n",
              "      <td>2841587.97</td>\n",
              "      <td>3328230.63</td>\n",
              "      <td>2878691.04</td>\n",
              "      <td>2964324.32</td>\n",
              "      <td>2524712.40</td>\n",
              "      <td>2462451.64</td>\n",
              "      <td>2662240.18</td>\n",
              "      <td>2499996.16</td>\n",
              "      <td>2846135.56</td>\n",
              "      <td>2789823.29</td>\n",
              "      <td>2839389.53</td>\n",
              "      <td>2647540.20</td>\n",
              "      <td>2865777.71</td>\n",
              "      <td>3181321.82</td>\n",
              "      <td>3070436.96</td>\n",
              "      <td>3162342.44</td>\n",
              "      <td>3121104.71</td>\n",
              "      <td>2889969.87</td>\n",
              "      <td>3084561.08</td>\n",
              "      <td>2967159.04</td>\n",
              "      <td>2813954.05</td>\n",
              "      <td>2306119.95</td>\n",
              "      <td>2921522.16</td>\n",
              "      <td>3300012.98</td>\n",
              "      <td>3192075.41</td>\n",
              "      <td>3262354.34</td>\n",
              "      <td>2978629.22</td>\n",
              "      <td>3313296.78</td>\n",
              "      <td>3527263.23</td>\n",
              "      <td>3125021.90</td>\n",
              "      <td>320240584.64</td>\n",
              "    </tr>\n",
              "    <tr>\n",
              "      <th>15 Pará</th>\n",
              "      <td>181159.29</td>\n",
              "      <td>433414.74</td>\n",
              "      <td>1893197.50</td>\n",
              "      <td>5105406.44</td>\n",
              "      <td>13162823.43</td>\n",
              "      <td>21762104.16</td>\n",
              "      <td>20126081.01</td>\n",
              "      <td>22149375.82</td>\n",
              "      <td>23436682.75</td>\n",
              "      <td>23861080.80</td>\n",
              "      <td>23502915.90</td>\n",
              "      <td>22544291.26</td>\n",
              "      <td>23259148.28</td>\n",
              "      <td>23667690.01</td>\n",
              "      <td>23352577.75</td>\n",
              "      <td>23537613.41</td>\n",
              "      <td>23836162.40</td>\n",
              "      <td>25397157.43</td>\n",
              "      <td>23045700.70</td>\n",
              "      <td>28225957.76</td>\n",
              "      <td>27478025.61</td>\n",
              "      <td>26610951.91</td>\n",
              "      <td>26424970.11</td>\n",
              "      <td>26331756.26</td>\n",
              "      <td>27892582.69</td>\n",
              "      <td>27231854.35</td>\n",
              "      <td>27599957.69</td>\n",
              "      <td>26784181.74</td>\n",
              "      <td>25511285.54</td>\n",
              "      <td>26421157.74</td>\n",
              "      <td>25483553.06</td>\n",
              "      <td>28537493.86</td>\n",
              "      <td>26949923.37</td>\n",
              "      <td>28436425.05</td>\n",
              "      <td>26947713.85</td>\n",
              "      <td>26125357.73</td>\n",
              "      <td>27761867.94</td>\n",
              "      <td>27280175.15</td>\n",
              "      <td>26522062.12</td>\n",
              "      <td>26687663.81</td>\n",
              "      <td>...</td>\n",
              "      <td>33665042.35</td>\n",
              "      <td>33475545.29</td>\n",
              "      <td>32067934.67</td>\n",
              "      <td>33615836.09</td>\n",
              "      <td>30623491.62</td>\n",
              "      <td>34121931.00</td>\n",
              "      <td>35039954.20</td>\n",
              "      <td>35424611.06</td>\n",
              "      <td>34160283.18</td>\n",
              "      <td>34484949.49</td>\n",
              "      <td>35618364.04</td>\n",
              "      <td>34380916.90</td>\n",
              "      <td>38441090.50</td>\n",
              "      <td>33583538.08</td>\n",
              "      <td>32789354.87</td>\n",
              "      <td>34513534.80</td>\n",
              "      <td>31885919.67</td>\n",
              "      <td>33236155.79</td>\n",
              "      <td>31008924.95</td>\n",
              "      <td>31064106.50</td>\n",
              "      <td>28543179.30</td>\n",
              "      <td>36713929.36</td>\n",
              "      <td>36462011.47</td>\n",
              "      <td>36792954.02</td>\n",
              "      <td>36984314.60</td>\n",
              "      <td>35579251.49</td>\n",
              "      <td>35247659.30</td>\n",
              "      <td>37046350.76</td>\n",
              "      <td>34683341.17</td>\n",
              "      <td>34908420.50</td>\n",
              "      <td>29184688.30</td>\n",
              "      <td>43327731.71</td>\n",
              "      <td>40994545.21</td>\n",
              "      <td>40496349.97</td>\n",
              "      <td>38793393.54</td>\n",
              "      <td>36965951.76</td>\n",
              "      <td>38406616.21</td>\n",
              "      <td>37043032.10</td>\n",
              "      <td>36914437.92</td>\n",
              "      <td>4634989905.79</td>\n",
              "    </tr>\n",
              "  </tbody>\n",
              "</table>\n",
              "<p>5 rows × 162 columns</p>\n",
              "</div>"
            ],
            "text/plain": [
              "                      2007/Ago  2007/Set  ...    2020/Dez         Total\n",
              "Unidade da Federação                      ...                          \n",
              "11 Rondônia            4209.37  16397.03  ...  9003402.23  977224099.12\n",
              "12 Acre               10470.07  14001.71  ...  3711660.71  443631609.94\n",
              "13 Amazonas           35752.72  45570.64  ... 21546059.48 1872327626.21\n",
              "14 Roraima             4785.91  11858.63  ...  3125021.90  320240584.64\n",
              "15 Pará              181159.29 433414.74  ... 36914437.92 4634989905.79\n",
              "\n",
              "[5 rows x 162 columns]"
            ]
          },
          "metadata": {
            "tags": []
          },
          "execution_count": 1
        }
      ]
    },
    {
      "cell_type": "code",
      "metadata": {
        "colab": {
          "base_uri": "https://localhost:8080/",
          "height": 35
        },
        "id": "oti4uluBqWHa",
        "outputId": "1913c101-dc85-42ba-a04f-5617976de96d"
      },
      "source": [
        "# buscando a última coluna que temos no ordenado por total. O número negativa conta do final para o início\n",
        "mes_mais_recente = ordenado_por_total.columns[-1]\n",
        "mes_mais_recente"
      ],
      "execution_count": 2,
      "outputs": [
        {
          "output_type": "execute_result",
          "data": {
            "application/vnd.google.colaboratory.intrinsic+json": {
              "type": "string"
            },
            "text/plain": [
              "'2020/Dez'"
            ]
          },
          "metadata": {
            "tags": []
          },
          "execution_count": 2
        }
      ]
    },
    {
      "cell_type": "code",
      "metadata": {
        "colab": {
          "base_uri": "https://localhost:8080/"
        },
        "id": "dYB7Lwbyq6GW",
        "outputId": "400c0785-fbbd-4991-8058-2be1dbff2066"
      },
      "source": [
        "gastos_ultimo_mes = ordenado_por_total[mes_mais_recente]\n",
        "gastos_ultimo_mes.head()\n"
      ],
      "execution_count": 3,
      "outputs": [
        {
          "output_type": "execute_result",
          "data": {
            "text/plain": [
              "Unidade da Federação\n",
              "35 São Paulo           326846228.95\n",
              "31 Minas Gerais        166376967.67\n",
              "41 Paraná              122146256.92\n",
              "43 Rio Grande do Sul   116833971.73\n",
              "33 Rio de Janeiro       90567351.87\n",
              "Name: 2020/Dez, dtype: float64"
            ]
          },
          "metadata": {
            "tags": []
          },
          "execution_count": 3
        }
      ]
    },
    {
      "cell_type": "code",
      "metadata": {
        "colab": {
          "base_uri": "https://localhost:8080/",
          "height": 307
        },
        "id": "5yHwqzgLsDVg",
        "outputId": "e55a5730-237b-4fff-8b4c-b0e6092be002"
      },
      "source": [
        "# o gráfico plotado do ultimo mês, sem modificação, não tem sentido algum por ter os estados no eixo X\n",
        "gastos_ultimo_mes.plot()"
      ],
      "execution_count": 4,
      "outputs": [
        {
          "output_type": "execute_result",
          "data": {
            "text/plain": [
              "<matplotlib.axes._subplots.AxesSubplot at 0x7f4dd2d6d690>"
            ]
          },
          "metadata": {
            "tags": []
          },
          "execution_count": 4
        },
        {
          "output_type": "display_data",
          "data": {
            "image/png": "[encoded data removed]",
            "text/plain": [
              "<Figure size 432x288 with 1 Axes>"
            ]
          },
          "metadata": {
            "tags": [],
            "needs_background": "light"
          }
        }
      ]
    },
    {
      "cell_type": "code",
      "metadata": {
        "colab": {
          "base_uri": "https://localhost:8080/",
          "height": 265
        },
        "id": "uXhufclusXOi",
        "outputId": "1bf7535b-222c-49a2-a95b-c69ada156565"
      },
      "source": [
        "# plotando o gráfico com estilo pizza\n",
        "gastos_ultimo_mes.plot(kind='pie')"
      ],
      "execution_count": 5,
      "outputs": [
        {
          "output_type": "execute_result",
          "data": {
            "text/plain": [
              "<matplotlib.axes._subplots.AxesSubplot at 0x7f4dd29703d0>"
            ]
          },
          "metadata": {
            "tags": []
          },
          "execution_count": 5
        },
        {
          "output_type": "display_data",
          "data": {
            "image/png": "[encoded data removed]",
            "text/plain": [
              "<Figure size 432x288 with 1 Axes>"
            ]
          },
          "metadata": {
            "tags": []
          }
        }
      ]
    },
    {
      "cell_type": "code",
      "metadata": {
        "colab": {
          "base_uri": "https://localhost:8080/",
          "height": 265
        },
        "id": "FdByCmZ2syA1",
        "outputId": "795d5f07-4527-4ad8-fd40-d5db9ef89eca"
      },
      "source": [
        "# como nosso dataframe está ordenado pelo total, o gráfico veio ordenado\n",
        "# para que ele não esteja ordenado podemos usar o sample novamente para reordenar os valores na series\n",
        "gastos_ultimo_mes.sample(frac=1).plot(kind='pie')"
      ],
      "execution_count": 6,
      "outputs": [
        {
          "output_type": "execute_result",
          "data": {
            "text/plain": [
              "<matplotlib.axes._subplots.AxesSubplot at 0x7f4dd246a090>"
            ]
          },
          "metadata": {
            "tags": []
          },
          "execution_count": 6
        },
        {
          "output_type": "display_data",
          "data": {
            "image/png": "[encoded data removed]",
            "text/plain": [
              "<Figure size 432x288 with 1 Axes>"
            ]
          },
          "metadata": {
            "tags": []
          }
        }
      ]
    },
    {
      "cell_type": "code",
      "metadata": {
        "colab": {
          "base_uri": "https://localhost:8080/",
          "height": 605
        },
        "id": "tXYLLEy4twW3",
        "outputId": "d4657fd2-3ef3-4310-cba9-352c9421dd02"
      },
      "source": [
        "# ordenando os valores para plotar o gráfico e assim a visualização ficar mais simples\n",
        "gastos_ultimo_mes = gastos_ultimo_mes.sort_values(ascending=False)\n",
        "ax = gastos_ultimo_mes.plot(kind='bar', figsize = (10, 8))\n",
        "ax.yaxis.set_major_formatter(ticker.StrMethodFormatter('{x:,.2f}'))"
      ],
      "execution_count": 7,
      "outputs": [
        {
          "output_type": "display_data",
          "data": {
            "image/png": "[encoded data removed]",
            "text/plain": [
              "<Figure size 720x576 with 1 Axes>"
            ]
          },
          "metadata": {
            "tags": [],
            "needs_background": "light"
          }
        }
      ]
    },
    {
      "cell_type": "markdown",
      "metadata": {
        "id": "IDo_EQXIx50X"
      },
      "source": [
        "# Desafio 01: Buscar na documentação do Matplotlib como colocar um grid nos gráficos e adicionar nos gráficos de barra."
      ]
    },
    {
      "cell_type": "code",
      "metadata": {
        "colab": {
          "base_uri": "https://localhost:8080/",
          "height": 605
        },
        "id": "QT4LP2rgx7SI",
        "outputId": "9626f86b-e14e-4462-ba4b-44a5ab653194"
      },
      "source": [
        "# para adicionar grid ao gráfico utilizamos a função grid.\n",
        "\n",
        "ax1 = gastos_ultimo_mes.plot(kind='bar', figsize = (10, 8))\n",
        "ax1.yaxis.set_major_formatter(ticker.StrMethodFormatter('{x:,.2f}'))\n",
        "ax1.grid(which='both', axis='y', linewidth=0.5)"
      ],
      "execution_count": 8,
      "outputs": [
        {
          "output_type": "display_data",
          "data": {
            "image/png": "[encoded data removed]",
            "text/plain": [
              "<Figure size 720x576 with 1 Axes>"
            ]
          },
          "metadata": {
            "tags": [],
            "needs_background": "light"
          }
        }
      ]
    },
    {
      "cell_type": "markdown",
      "metadata": {
        "id": "pN3BkSFq1Roa"
      },
      "source": [
        "[Biblioteca do Matplotlib - Grid](https://matplotlib.org/stable/api/_as_gen/matplotlib.pyplot.grid.html)"
      ]
    },
    {
      "cell_type": "markdown",
      "metadata": {
        "id": "clVFAvHux7vH"
      },
      "source": [
        "# Desafio 02: Fazer um gráfico e uma tabela do gasto dos outros estados em função do seu estado, ou qualquer outro de interesse."
      ]
    },
    {
      "cell_type": "code",
      "metadata": {
        "colab": {
          "base_uri": "https://localhost:8080/"
        },
        "id": "0wk9IQiVx-Ie",
        "outputId": "28ce377f-7f64-477f-afce-62058aa2ef6f"
      },
      "source": [
        "# ajustando os valores em referência ao estado de São Paulo\n",
        "gasto_sao_paulo = gastos_ultimo_mes / gastos_ultimo_mes.loc['35 São Paulo']\n",
        "gasto_sao_paulo.head()"
      ],
      "execution_count": 9,
      "outputs": [
        {
          "output_type": "execute_result",
          "data": {
            "text/plain": [
              "Unidade da Federação\n",
              "35 São Paulo           1.00\n",
              "31 Minas Gerais        0.51\n",
              "41 Paraná              0.37\n",
              "43 Rio Grande do Sul   0.36\n",
              "33 Rio de Janeiro      0.28\n",
              "Name: 2020/Dez, dtype: float64"
            ]
          },
          "metadata": {
            "tags": []
          },
          "execution_count": 9
        }
      ]
    },
    {
      "cell_type": "code",
      "metadata": {
        "colab": {
          "base_uri": "https://localhost:8080/",
          "height": 636
        },
        "id": "acZ0xI5n19vI",
        "outputId": "ab11012d-e39d-4701-c0c1-ed826a19b269"
      },
      "source": [
        "# plotando o gráfico com os gastos dos estados em comparação com São Paulo\n",
        "gasto_sao_paulo = gasto_sao_paulo * 100\n",
        "ax_sp = gasto_sao_paulo.plot(kind = 'bar', figsize=(10,8), ylabel=('Em Porcentagem'))\n",
        "ax_sp.grid(axis='y', linewidth=0.5)\n",
        "ax_sp.set_title('Gastos com o SUS em comparação com o estado de São Paulo \\n para o mês de Dezembro em 2020')\n",
        "plt.show()"
      ],
      "execution_count": 10,
      "outputs": [
        {
          "output_type": "display_data",
          "data": {
            "image/png": "[encoded data removed]",
            "text/plain": [
              "<Figure size 720x576 with 1 Axes>"
            ]
          },
          "metadata": {
            "tags": [],
            "needs_background": "light"
          }
        }
      ]
    },
    {
      "cell_type": "markdown",
      "metadata": {
        "id": "PvwaVR-Ix-pd"
      },
      "source": [
        "# Desafio 03: Fazer o cálculo proporcional a população do seu estado e mais um a sua escolha."
      ]
    },
    {
      "cell_type": "markdown",
      "metadata": {
        "id": "gE6AWBeWyBiW"
      },
      "source": [
        "# Desafio 04: Faça uma análise dos dados analisados, levante hipóteses e compartilhe com a gente no Discord."
      ]
    },
    {
      "cell_type": "code",
      "metadata": {
        "id": "_3ny_KBCyDoi"
      },
      "source": [
        ""
      ],
      "execution_count": 10,
      "outputs": []
    },
    {
      "cell_type": "markdown",
      "metadata": {
        "id": "lyQJcK9FyETe"
      },
      "source": [
        "# Desafio 05: Reproduza as análises feitas em aulas, refletindo e levantando hipóteses."
      ]
    },
    {
      "cell_type": "markdown",
      "metadata": {
        "id": "y17CK4nlzFjG"
      },
      "source": [
        "# MÓDULO 2"
      ]
    },
    {
      "cell_type": "code",
      "metadata": {
        "id": "hr-Qe9ylyFrW",
        "colab": {
          "base_uri": "https://localhost:8080/",
          "height": 605
        },
        "outputId": "5ec3de55-ad8d-4bc7-bc9b-1260dd1765c1"
      },
      "source": [
        "gastos_ultimo_mes = gastos_ultimo_mes.sort_values(ascending=False)\n",
        "ax = gastos_ultimo_mes.plot(kind='bar', figsize = (10, 8))\n",
        "ax.yaxis.set_major_formatter(ticker.StrMethodFormatter('{x:,.2f}'))"
      ],
      "execution_count": 11,
      "outputs": [
        {
          "output_type": "display_data",
          "data": {
            "image/png": "[encoded data removed]",
            "text/plain": [
              "<Figure size 720x576 with 1 Axes>"
            ]
          },
          "metadata": {
            "tags": [],
            "needs_background": "light"
          }
        }
      ]
    },
    {
      "cell_type": "code",
      "metadata": {
        "colab": {
          "base_uri": "https://localhost:8080/",
          "height": 404
        },
        "id": "39caa1RhyvpF",
        "outputId": "36952201-afb2-4326-c011-0c169bc5b3f3"
      },
      "source": [
        "gastos_proporcionais = gastos_ultimo_mes / gastos_ultimo_mes.sum()\n",
        "gastos_proporcionais.plot(kind='bar')"
      ],
      "execution_count": 12,
      "outputs": [
        {
          "output_type": "execute_result",
          "data": {
            "text/plain": [
              "<matplotlib.axes._subplots.AxesSubplot at 0x7f4dd2054250>"
            ]
          },
          "metadata": {
            "tags": []
          },
          "execution_count": 12
        },
        {
          "output_type": "display_data",
          "data": {
            "image/png": "[encoded data removed]",
            "text/plain": [
              "<Figure size 432x288 with 1 Axes>"
            ]
          },
          "metadata": {
            "tags": [],
            "needs_background": "light"
          }
        }
      ]
    },
    {
      "cell_type": "code",
      "metadata": {
        "id": "68jvRlNLzTGq"
      },
      "source": [
        "# para entrar dados em string que pegarão mais de uma linha coloca-se três aspas antes e três depois '''x'''\n",
        "dados_da_populacao = '''Posição\tUnidade federativa\tPopulação\t% da pop. total\tPaís comparável\n",
        "(habitantes)\n",
        "\n",
        "1\t São Paulo\t46 289 333\t21,9%\tFlag of Spain.svg Espanha (46 439 864)\n",
        "2\t Minas Gerais\t21 292 666\t10,1%\t Sri Lanka (20 675 000)\n",
        "3\t Rio de Janeiro\t17 366 189\t8,2%\t Países Baixos (16 922 900)\n",
        "4\tBahia Bahia\t14 930 634\t7,1%\t Chade (14 037 000)\n",
        "5\t Paraná\t11 516 840\t5,4%\t Bolívia (11 410 651)\n",
        "6\t Rio Grande do Sul\t11 422 973\t5,4%\t Bélgica (11 250 659)\n",
        "7\t Pernambuco\t9 616 621\t4,5%\t Bielorrússia (9 485 300)\n",
        "8\t Ceará\t9 187 103\t4,3%\t Emirados Árabes Unidos (9 157 000)\n",
        "9\tPará Pará\t8 690 745\t4,1%\t Áustria (8 602 112)\n",
        "10\t Santa Catarina\t7 252 502\t3,4%\t Sérvia (7 114 393)\n",
        "11\t Maranhão\t7 114 598\t3,4%\t Paraguai (7 003 406)\n",
        "12\t Goiás\t7 113 540\t3,4%\t Paraguai (7 003 406)\n",
        "13\t Amazonas\t4 207 714\t2,0%\t Líbano (4 168 000)\n",
        "14\t Espírito Santo\t4 064 052\t1,9%\t Líbano (4 168 000)\n",
        "15\t Paraíba\t4 039 277\t1,9%\t Líbano (4 168 000)\n",
        "16\t Rio Grande do Norte\t3 534 165\t1,7%\t Uruguai (3 415 866)\n",
        "17\t Mato Grosso\t3 526 220\t1,7%\t Uruguai (3 415 866)\n",
        "18\t Alagoas\t3 351 543\t1,6%\t Uruguai (3 415 866)\n",
        "19\t Piauí\t3 281 480\t1,6%\t Kuwait (3 268 431)\n",
        "20\t Distrito Federal\t3 055 149\t1,4%\t Lituânia (2 900 787)\n",
        "21\t Mato Grosso do Sul\t2 809 394\t1,3%\t Jamaica (2 717 991)\n",
        "22\t Sergipe\t2 318 822\t1,1%\t Namíbia (2 280 700)\n",
        "23\t Rondônia\t1 796 460\t0,8%\t Gabão (1 725 000)\n",
        "24\t Tocantins\t1 590 248\t0,7%\t Bahrein (1 359 800)\n",
        "25\t Acre\t894 470\t0,4%\t Fiji (859 178)\n",
        "26\t Amapá\t861 773\t0,4%\t Fiji (859 178)\n",
        "27\t Roraima\t631 181\t0,3%\t Luxemburgo (562 958)'''\n",
        "\n",
        "# fonte: https://pt.wikipedia.org/wiki/Lista_de_unidades_federativas_do_Brasil_por_popula%C3%A7%C3%A3o"
      ],
      "execution_count": 13,
      "outputs": []
    },
    {
      "cell_type": "code",
      "metadata": {
        "colab": {
          "base_uri": "https://localhost:8080/",
          "height": 204
        },
        "id": "Svkgpx291wUK",
        "outputId": "26a7ef13-8af7-42f2-b50b-ff575ce5ff5b"
      },
      "source": [
        "from io import StringIO\n",
        "\n",
        "dados_da_populacao_io = StringIO(dados_da_populacao)\n",
        "\n",
        "dados_da_populacao = pd.read_csv(dados_da_populacao_io, sep='\\t') # \\t é o caracter especial para TAB\n",
        "\n",
        "dados_da_populacao.head()\n"
      ],
      "execution_count": 14,
      "outputs": [
        {
          "output_type": "execute_result",
          "data": {
            "text/html": [
              "<div>\n",
              "<style scoped>\n",
              "    .dataframe tbody tr th:only-of-type {\n",
              "        vertical-align: middle;\n",
              "    }\n",
              "\n",
              "    .dataframe tbody tr th {\n",
              "        vertical-align: top;\n",
              "    }\n",
              "\n",
              "    .dataframe thead th {\n",
              "        text-align: right;\n",
              "    }\n",
              "</style>\n",
              "<table border=\"1\" class=\"dataframe\">\n",
              "  <thead>\n",
              "    <tr style=\"text-align: right;\">\n",
              "      <th></th>\n",
              "      <th>Posição</th>\n",
              "      <th>Unidade federativa</th>\n",
              "      <th>População</th>\n",
              "      <th>% da pop. total</th>\n",
              "      <th>País comparável</th>\n",
              "    </tr>\n",
              "  </thead>\n",
              "  <tbody>\n",
              "    <tr>\n",
              "      <th>0</th>\n",
              "      <td>(habitantes)</td>\n",
              "      <td>NaN</td>\n",
              "      <td>NaN</td>\n",
              "      <td>NaN</td>\n",
              "      <td>NaN</td>\n",
              "    </tr>\n",
              "    <tr>\n",
              "      <th>1</th>\n",
              "      <td>1</td>\n",
              "      <td>São Paulo</td>\n",
              "      <td>46 289 333</td>\n",
              "      <td>21,9%</td>\n",
              "      <td>Flag of Spain.svg Espanha (46 439 864)</td>\n",
              "    </tr>\n",
              "    <tr>\n",
              "      <th>2</th>\n",
              "      <td>2</td>\n",
              "      <td>Minas Gerais</td>\n",
              "      <td>21 292 666</td>\n",
              "      <td>10,1%</td>\n",
              "      <td>Sri Lanka (20 675 000)</td>\n",
              "    </tr>\n",
              "    <tr>\n",
              "      <th>3</th>\n",
              "      <td>3</td>\n",
              "      <td>Rio de Janeiro</td>\n",
              "      <td>17 366 189</td>\n",
              "      <td>8,2%</td>\n",
              "      <td>Países Baixos (16 922 900)</td>\n",
              "    </tr>\n",
              "    <tr>\n",
              "      <th>4</th>\n",
              "      <td>4</td>\n",
              "      <td>Bahia Bahia</td>\n",
              "      <td>14 930 634</td>\n",
              "      <td>7,1%</td>\n",
              "      <td>Chade (14 037 000)</td>\n",
              "    </tr>\n",
              "  </tbody>\n",
              "</table>\n",
              "</div>"
            ],
            "text/plain": [
              "        Posição  ...                         País comparável\n",
              "0  (habitantes)  ...                                     NaN\n",
              "1             1  ...  Flag of Spain.svg Espanha (46 439 864)\n",
              "2             2  ...                  Sri Lanka (20 675 000)\n",
              "3             3  ...              Países Baixos (16 922 900)\n",
              "4             4  ...                      Chade (14 037 000)\n",
              "\n",
              "[5 rows x 5 columns]"
            ]
          },
          "metadata": {
            "tags": []
          },
          "execution_count": 14
        }
      ]
    },
    {
      "cell_type": "code",
      "metadata": {
        "colab": {
          "base_uri": "https://localhost:8080/",
          "height": 204
        },
        "id": "ksPha4FA2K8n",
        "outputId": "8e536967-4a27-4a7b-811f-8cdade1fd46d"
      },
      "source": [
        "dados_da_populacao = dados_da_populacao.rename(columns={'Unidade federativa':'uf', 'População' : 'populacao'})\n",
        "dados_da_populacao.head()"
      ],
      "execution_count": 15,
      "outputs": [
        {
          "output_type": "execute_result",
          "data": {
            "text/html": [
              "<div>\n",
              "<style scoped>\n",
              "    .dataframe tbody tr th:only-of-type {\n",
              "        vertical-align: middle;\n",
              "    }\n",
              "\n",
              "    .dataframe tbody tr th {\n",
              "        vertical-align: top;\n",
              "    }\n",
              "\n",
              "    .dataframe thead th {\n",
              "        text-align: right;\n",
              "    }\n",
              "</style>\n",
              "<table border=\"1\" class=\"dataframe\">\n",
              "  <thead>\n",
              "    <tr style=\"text-align: right;\">\n",
              "      <th></th>\n",
              "      <th>Posição</th>\n",
              "      <th>uf</th>\n",
              "      <th>populacao</th>\n",
              "      <th>% da pop. total</th>\n",
              "      <th>País comparável</th>\n",
              "    </tr>\n",
              "  </thead>\n",
              "  <tbody>\n",
              "    <tr>\n",
              "      <th>0</th>\n",
              "      <td>(habitantes)</td>\n",
              "      <td>NaN</td>\n",
              "      <td>NaN</td>\n",
              "      <td>NaN</td>\n",
              "      <td>NaN</td>\n",
              "    </tr>\n",
              "    <tr>\n",
              "      <th>1</th>\n",
              "      <td>1</td>\n",
              "      <td>São Paulo</td>\n",
              "      <td>46 289 333</td>\n",
              "      <td>21,9%</td>\n",
              "      <td>Flag of Spain.svg Espanha (46 439 864)</td>\n",
              "    </tr>\n",
              "    <tr>\n",
              "      <th>2</th>\n",
              "      <td>2</td>\n",
              "      <td>Minas Gerais</td>\n",
              "      <td>21 292 666</td>\n",
              "      <td>10,1%</td>\n",
              "      <td>Sri Lanka (20 675 000)</td>\n",
              "    </tr>\n",
              "    <tr>\n",
              "      <th>3</th>\n",
              "      <td>3</td>\n",
              "      <td>Rio de Janeiro</td>\n",
              "      <td>17 366 189</td>\n",
              "      <td>8,2%</td>\n",
              "      <td>Países Baixos (16 922 900)</td>\n",
              "    </tr>\n",
              "    <tr>\n",
              "      <th>4</th>\n",
              "      <td>4</td>\n",
              "      <td>Bahia Bahia</td>\n",
              "      <td>14 930 634</td>\n",
              "      <td>7,1%</td>\n",
              "      <td>Chade (14 037 000)</td>\n",
              "    </tr>\n",
              "  </tbody>\n",
              "</table>\n",
              "</div>"
            ],
            "text/plain": [
              "        Posição  ...                         País comparável\n",
              "0  (habitantes)  ...                                     NaN\n",
              "1             1  ...  Flag of Spain.svg Espanha (46 439 864)\n",
              "2             2  ...                  Sri Lanka (20 675 000)\n",
              "3             3  ...              Países Baixos (16 922 900)\n",
              "4             4  ...                      Chade (14 037 000)\n",
              "\n",
              "[5 rows x 5 columns]"
            ]
          },
          "metadata": {
            "tags": []
          },
          "execution_count": 15
        }
      ]
    },
    {
      "cell_type": "code",
      "metadata": {
        "colab": {
          "base_uri": "https://localhost:8080/",
          "height": 204
        },
        "id": "3RGnBTjy5p82",
        "outputId": "0f64e2d2-c0bc-4d55-db51-a4dc8500a75f"
      },
      "source": [
        "dados_da_populacao = dados_da_populacao.drop(columns=['Posição', '% da pop. total', 'País comparável'])\n",
        "dados_da_populacao.head()"
      ],
      "execution_count": 16,
      "outputs": [
        {
          "output_type": "execute_result",
          "data": {
            "text/html": [
              "<div>\n",
              "<style scoped>\n",
              "    .dataframe tbody tr th:only-of-type {\n",
              "        vertical-align: middle;\n",
              "    }\n",
              "\n",
              "    .dataframe tbody tr th {\n",
              "        vertical-align: top;\n",
              "    }\n",
              "\n",
              "    .dataframe thead th {\n",
              "        text-align: right;\n",
              "    }\n",
              "</style>\n",
              "<table border=\"1\" class=\"dataframe\">\n",
              "  <thead>\n",
              "    <tr style=\"text-align: right;\">\n",
              "      <th></th>\n",
              "      <th>uf</th>\n",
              "      <th>populacao</th>\n",
              "    </tr>\n",
              "  </thead>\n",
              "  <tbody>\n",
              "    <tr>\n",
              "      <th>0</th>\n",
              "      <td>NaN</td>\n",
              "      <td>NaN</td>\n",
              "    </tr>\n",
              "    <tr>\n",
              "      <th>1</th>\n",
              "      <td>São Paulo</td>\n",
              "      <td>46 289 333</td>\n",
              "    </tr>\n",
              "    <tr>\n",
              "      <th>2</th>\n",
              "      <td>Minas Gerais</td>\n",
              "      <td>21 292 666</td>\n",
              "    </tr>\n",
              "    <tr>\n",
              "      <th>3</th>\n",
              "      <td>Rio de Janeiro</td>\n",
              "      <td>17 366 189</td>\n",
              "    </tr>\n",
              "    <tr>\n",
              "      <th>4</th>\n",
              "      <td>Bahia Bahia</td>\n",
              "      <td>14 930 634</td>\n",
              "    </tr>\n",
              "  </tbody>\n",
              "</table>\n",
              "</div>"
            ],
            "text/plain": [
              "                uf   populacao\n",
              "0              NaN         NaN\n",
              "1        São Paulo  46 289 333\n",
              "2     Minas Gerais  21 292 666\n",
              "3   Rio de Janeiro  17 366 189\n",
              "4      Bahia Bahia  14 930 634"
            ]
          },
          "metadata": {
            "tags": []
          },
          "execution_count": 16
        }
      ]
    },
    {
      "cell_type": "code",
      "metadata": {
        "colab": {
          "base_uri": "https://localhost:8080/",
          "height": 204
        },
        "id": "kAfLBEF36LA9",
        "outputId": "bf4bf23a-38c2-4e72-95a3-f0d52aa66f78"
      },
      "source": [
        "dados_da_populacao = dados_da_populacao.drop([0])\n",
        "dados_da_populacao.head()"
      ],
      "execution_count": 17,
      "outputs": [
        {
          "output_type": "execute_result",
          "data": {
            "text/html": [
              "<div>\n",
              "<style scoped>\n",
              "    .dataframe tbody tr th:only-of-type {\n",
              "        vertical-align: middle;\n",
              "    }\n",
              "\n",
              "    .dataframe tbody tr th {\n",
              "        vertical-align: top;\n",
              "    }\n",
              "\n",
              "    .dataframe thead th {\n",
              "        text-align: right;\n",
              "    }\n",
              "</style>\n",
              "<table border=\"1\" class=\"dataframe\">\n",
              "  <thead>\n",
              "    <tr style=\"text-align: right;\">\n",
              "      <th></th>\n",
              "      <th>uf</th>\n",
              "      <th>populacao</th>\n",
              "    </tr>\n",
              "  </thead>\n",
              "  <tbody>\n",
              "    <tr>\n",
              "      <th>1</th>\n",
              "      <td>São Paulo</td>\n",
              "      <td>46 289 333</td>\n",
              "    </tr>\n",
              "    <tr>\n",
              "      <th>2</th>\n",
              "      <td>Minas Gerais</td>\n",
              "      <td>21 292 666</td>\n",
              "    </tr>\n",
              "    <tr>\n",
              "      <th>3</th>\n",
              "      <td>Rio de Janeiro</td>\n",
              "      <td>17 366 189</td>\n",
              "    </tr>\n",
              "    <tr>\n",
              "      <th>4</th>\n",
              "      <td>Bahia Bahia</td>\n",
              "      <td>14 930 634</td>\n",
              "    </tr>\n",
              "    <tr>\n",
              "      <th>5</th>\n",
              "      <td>Paraná</td>\n",
              "      <td>11 516 840</td>\n",
              "    </tr>\n",
              "  </tbody>\n",
              "</table>\n",
              "</div>"
            ],
            "text/plain": [
              "                uf   populacao\n",
              "1        São Paulo  46 289 333\n",
              "2     Minas Gerais  21 292 666\n",
              "3   Rio de Janeiro  17 366 189\n",
              "4      Bahia Bahia  14 930 634\n",
              "5           Paraná  11 516 840"
            ]
          },
          "metadata": {
            "tags": []
          },
          "execution_count": 17
        }
      ]
    },
    {
      "cell_type": "code",
      "metadata": {
        "colab": {
          "base_uri": "https://localhost:8080/",
          "height": 235
        },
        "id": "29iwWft56xHN",
        "outputId": "cdde7101-07dc-4e2d-c0aa-aeea03197f6b"
      },
      "source": [
        "dados_da_populacao.set_index('uf', inplace=True)\n",
        "dados_da_populacao.head()"
      ],
      "execution_count": 18,
      "outputs": [
        {
          "output_type": "execute_result",
          "data": {
            "text/html": [
              "<div>\n",
              "<style scoped>\n",
              "    .dataframe tbody tr th:only-of-type {\n",
              "        vertical-align: middle;\n",
              "    }\n",
              "\n",
              "    .dataframe tbody tr th {\n",
              "        vertical-align: top;\n",
              "    }\n",
              "\n",
              "    .dataframe thead th {\n",
              "        text-align: right;\n",
              "    }\n",
              "</style>\n",
              "<table border=\"1\" class=\"dataframe\">\n",
              "  <thead>\n",
              "    <tr style=\"text-align: right;\">\n",
              "      <th></th>\n",
              "      <th>populacao</th>\n",
              "    </tr>\n",
              "    <tr>\n",
              "      <th>uf</th>\n",
              "      <th></th>\n",
              "    </tr>\n",
              "  </thead>\n",
              "  <tbody>\n",
              "    <tr>\n",
              "      <th>São Paulo</th>\n",
              "      <td>46 289 333</td>\n",
              "    </tr>\n",
              "    <tr>\n",
              "      <th>Minas Gerais</th>\n",
              "      <td>21 292 666</td>\n",
              "    </tr>\n",
              "    <tr>\n",
              "      <th>Rio de Janeiro</th>\n",
              "      <td>17 366 189</td>\n",
              "    </tr>\n",
              "    <tr>\n",
              "      <th>Bahia Bahia</th>\n",
              "      <td>14 930 634</td>\n",
              "    </tr>\n",
              "    <tr>\n",
              "      <th>Paraná</th>\n",
              "      <td>11 516 840</td>\n",
              "    </tr>\n",
              "  </tbody>\n",
              "</table>\n",
              "</div>"
            ],
            "text/plain": [
              "                  populacao\n",
              "uf                         \n",
              " São Paulo       46 289 333\n",
              " Minas Gerais    21 292 666\n",
              " Rio de Janeiro  17 366 189\n",
              "Bahia Bahia      14 930 634\n",
              " Paraná          11 516 840"
            ]
          },
          "metadata": {
            "tags": []
          },
          "execution_count": 18
        }
      ]
    },
    {
      "cell_type": "code",
      "metadata": {
        "colab": {
          "base_uri": "https://localhost:8080/",
          "height": 235
        },
        "id": "86PRgLYz6_Bx",
        "outputId": "c49a4417-dafe-42a0-dbfc-940d4025eab9"
      },
      "source": [
        "# podemos chamar funções de string (como a replace) com o comando str.function() / para converter para outro tipo de dados usamos o astype()\n",
        "dados_da_populacao['populacao'] = dados_da_populacao['populacao'].str.replace(' ', '').astype(int)\n",
        "dados_da_populacao.head()"
      ],
      "execution_count": 19,
      "outputs": [
        {
          "output_type": "execute_result",
          "data": {
            "text/html": [
              "<div>\n",
              "<style scoped>\n",
              "    .dataframe tbody tr th:only-of-type {\n",
              "        vertical-align: middle;\n",
              "    }\n",
              "\n",
              "    .dataframe tbody tr th {\n",
              "        vertical-align: top;\n",
              "    }\n",
              "\n",
              "    .dataframe thead th {\n",
              "        text-align: right;\n",
              "    }\n",
              "</style>\n",
              "<table border=\"1\" class=\"dataframe\">\n",
              "  <thead>\n",
              "    <tr style=\"text-align: right;\">\n",
              "      <th></th>\n",
              "      <th>populacao</th>\n",
              "    </tr>\n",
              "    <tr>\n",
              "      <th>uf</th>\n",
              "      <th></th>\n",
              "    </tr>\n",
              "  </thead>\n",
              "  <tbody>\n",
              "    <tr>\n",
              "      <th>São Paulo</th>\n",
              "      <td>46289333</td>\n",
              "    </tr>\n",
              "    <tr>\n",
              "      <th>Minas Gerais</th>\n",
              "      <td>21292666</td>\n",
              "    </tr>\n",
              "    <tr>\n",
              "      <th>Rio de Janeiro</th>\n",
              "      <td>17366189</td>\n",
              "    </tr>\n",
              "    <tr>\n",
              "      <th>Bahia Bahia</th>\n",
              "      <td>14930634</td>\n",
              "    </tr>\n",
              "    <tr>\n",
              "      <th>Paraná</th>\n",
              "      <td>11516840</td>\n",
              "    </tr>\n",
              "  </tbody>\n",
              "</table>\n",
              "</div>"
            ],
            "text/plain": [
              "                 populacao\n",
              "uf                        \n",
              " São Paulo        46289333\n",
              " Minas Gerais     21292666\n",
              " Rio de Janeiro   17366189\n",
              "Bahia Bahia       14930634\n",
              " Paraná           11516840"
            ]
          },
          "metadata": {
            "tags": []
          },
          "execution_count": 19
        }
      ]
    },
    {
      "cell_type": "code",
      "metadata": {
        "colab": {
          "base_uri": "https://localhost:8080/"
        },
        "id": "w8WAI6eP8SMG",
        "outputId": "77e04bb1-4258-40e0-c27f-892391f2a9d6"
      },
      "source": [
        "dados_da_populacao.info()"
      ],
      "execution_count": 20,
      "outputs": [
        {
          "output_type": "stream",
          "text": [
            "<class 'pandas.core.frame.DataFrame'>\n",
            "Index: 27 entries,  São Paulo to  Roraima\n",
            "Data columns (total 1 columns):\n",
            " #   Column     Non-Null Count  Dtype\n",
            "---  ------     --------------  -----\n",
            " 0   populacao  27 non-null     int64\n",
            "dtypes: int64(1)\n",
            "memory usage: 432.0+ bytes\n"
          ],
          "name": "stdout"
        }
      ]
    },
    {
      "cell_type": "code",
      "metadata": {
        "id": "Gxlf7mY-8UEE"
      },
      "source": [
        "# alterando o index dos gastos_ultimo_mes pois queremos tirar os numeros da frente para poder unir com a series dados_da_populacao\n",
        "gastos_ultimo_mes.index = gastos_ultimo_mes.index.str[3:]"
      ],
      "execution_count": 21,
      "outputs": []
    },
    {
      "cell_type": "code",
      "metadata": {
        "colab": {
          "base_uri": "https://localhost:8080/"
        },
        "id": "QQlXk8KK-Enw",
        "outputId": "4e73be23-bad6-4f21-f236-9a2cd0c30dd8"
      },
      "source": [
        "gastos_ultimo_mes = gastos_ultimo_mes / 1000000\n",
        "gastos_ultimo_mes"
      ],
      "execution_count": 22,
      "outputs": [
        {
          "output_type": "execute_result",
          "data": {
            "text/plain": [
              "Unidade da Federação\n",
              "São Paulo             326.85\n",
              "Minas Gerais          166.38\n",
              "Paraná                122.15\n",
              "Rio Grande do Sul     116.83\n",
              "Rio de Janeiro         90.57\n",
              "Bahia                  83.13\n",
              "Pernambuco             77.88\n",
              "Santa Catarina         72.72\n",
              "Ceará                  50.27\n",
              "Espírito Santo         40.50\n",
              "Goiás                  37.61\n",
              "Pará                   36.91\n",
              "Maranhão               30.93\n",
              "Rio Grande do Norte    27.28\n",
              "Distrito Federal       22.55\n",
              "Amazonas               21.55\n",
              "Mato Grosso do Sul     21.39\n",
              "Paraíba                20.36\n",
              "Piauí                  19.35\n",
              "Mato Grosso            18.85\n",
              "Alagoas                17.46\n",
              "Sergipe                11.00\n",
              "Rondônia                9.00\n",
              "Acre                    3.71\n",
              "Roraima                 3.13\n",
              "Amapá                   2.83\n",
              "Tocantins               0.69\n",
              "Name: 2020/Dez, dtype: float64"
            ]
          },
          "metadata": {
            "tags": []
          },
          "execution_count": 22
        }
      ]
    },
    {
      "cell_type": "code",
      "metadata": {
        "colab": {
          "base_uri": "https://localhost:8080/",
          "height": 917
        },
        "id": "T4l4S-ZK-4eU",
        "outputId": "904eb2e5-663e-49ae-993f-5ffecb537857"
      },
      "source": [
        "# se o join não está funcionando é possível que os index não estejam iguais\n",
        "dados_da_populacao.join(gastos_ultimo_mes)"
      ],
      "execution_count": 23,
      "outputs": [
        {
          "output_type": "execute_result",
          "data": {
            "text/html": [
              "<div>\n",
              "<style scoped>\n",
              "    .dataframe tbody tr th:only-of-type {\n",
              "        vertical-align: middle;\n",
              "    }\n",
              "\n",
              "    .dataframe tbody tr th {\n",
              "        vertical-align: top;\n",
              "    }\n",
              "\n",
              "    .dataframe thead th {\n",
              "        text-align: right;\n",
              "    }\n",
              "</style>\n",
              "<table border=\"1\" class=\"dataframe\">\n",
              "  <thead>\n",
              "    <tr style=\"text-align: right;\">\n",
              "      <th></th>\n",
              "      <th>populacao</th>\n",
              "      <th>2020/Dez</th>\n",
              "    </tr>\n",
              "    <tr>\n",
              "      <th>uf</th>\n",
              "      <th></th>\n",
              "      <th></th>\n",
              "    </tr>\n",
              "  </thead>\n",
              "  <tbody>\n",
              "    <tr>\n",
              "      <th>São Paulo</th>\n",
              "      <td>46289333</td>\n",
              "      <td>nan</td>\n",
              "    </tr>\n",
              "    <tr>\n",
              "      <th>Minas Gerais</th>\n",
              "      <td>21292666</td>\n",
              "      <td>nan</td>\n",
              "    </tr>\n",
              "    <tr>\n",
              "      <th>Rio de Janeiro</th>\n",
              "      <td>17366189</td>\n",
              "      <td>nan</td>\n",
              "    </tr>\n",
              "    <tr>\n",
              "      <th>Bahia Bahia</th>\n",
              "      <td>14930634</td>\n",
              "      <td>nan</td>\n",
              "    </tr>\n",
              "    <tr>\n",
              "      <th>Paraná</th>\n",
              "      <td>11516840</td>\n",
              "      <td>nan</td>\n",
              "    </tr>\n",
              "    <tr>\n",
              "      <th>Rio Grande do Sul</th>\n",
              "      <td>11422973</td>\n",
              "      <td>nan</td>\n",
              "    </tr>\n",
              "    <tr>\n",
              "      <th>Pernambuco</th>\n",
              "      <td>9616621</td>\n",
              "      <td>nan</td>\n",
              "    </tr>\n",
              "    <tr>\n",
              "      <th>Ceará</th>\n",
              "      <td>9187103</td>\n",
              "      <td>nan</td>\n",
              "    </tr>\n",
              "    <tr>\n",
              "      <th>Pará Pará</th>\n",
              "      <td>8690745</td>\n",
              "      <td>nan</td>\n",
              "    </tr>\n",
              "    <tr>\n",
              "      <th>Santa Catarina</th>\n",
              "      <td>7252502</td>\n",
              "      <td>nan</td>\n",
              "    </tr>\n",
              "    <tr>\n",
              "      <th>Maranhão</th>\n",
              "      <td>7114598</td>\n",
              "      <td>nan</td>\n",
              "    </tr>\n",
              "    <tr>\n",
              "      <th>Goiás</th>\n",
              "      <td>7113540</td>\n",
              "      <td>nan</td>\n",
              "    </tr>\n",
              "    <tr>\n",
              "      <th>Amazonas</th>\n",
              "      <td>4207714</td>\n",
              "      <td>nan</td>\n",
              "    </tr>\n",
              "    <tr>\n",
              "      <th>Espírito Santo</th>\n",
              "      <td>4064052</td>\n",
              "      <td>nan</td>\n",
              "    </tr>\n",
              "    <tr>\n",
              "      <th>Paraíba</th>\n",
              "      <td>4039277</td>\n",
              "      <td>nan</td>\n",
              "    </tr>\n",
              "    <tr>\n",
              "      <th>Rio Grande do Norte</th>\n",
              "      <td>3534165</td>\n",
              "      <td>nan</td>\n",
              "    </tr>\n",
              "    <tr>\n",
              "      <th>Mato Grosso</th>\n",
              "      <td>3526220</td>\n",
              "      <td>nan</td>\n",
              "    </tr>\n",
              "    <tr>\n",
              "      <th>Alagoas</th>\n",
              "      <td>3351543</td>\n",
              "      <td>nan</td>\n",
              "    </tr>\n",
              "    <tr>\n",
              "      <th>Piauí</th>\n",
              "      <td>3281480</td>\n",
              "      <td>nan</td>\n",
              "    </tr>\n",
              "    <tr>\n",
              "      <th>Distrito Federal</th>\n",
              "      <td>3055149</td>\n",
              "      <td>nan</td>\n",
              "    </tr>\n",
              "    <tr>\n",
              "      <th>Mato Grosso do Sul</th>\n",
              "      <td>2809394</td>\n",
              "      <td>nan</td>\n",
              "    </tr>\n",
              "    <tr>\n",
              "      <th>Sergipe</th>\n",
              "      <td>2318822</td>\n",
              "      <td>nan</td>\n",
              "    </tr>\n",
              "    <tr>\n",
              "      <th>Rondônia</th>\n",
              "      <td>1796460</td>\n",
              "      <td>nan</td>\n",
              "    </tr>\n",
              "    <tr>\n",
              "      <th>Tocantins</th>\n",
              "      <td>1590248</td>\n",
              "      <td>nan</td>\n",
              "    </tr>\n",
              "    <tr>\n",
              "      <th>Acre</th>\n",
              "      <td>894470</td>\n",
              "      <td>nan</td>\n",
              "    </tr>\n",
              "    <tr>\n",
              "      <th>Amapá</th>\n",
              "      <td>861773</td>\n",
              "      <td>nan</td>\n",
              "    </tr>\n",
              "    <tr>\n",
              "      <th>Roraima</th>\n",
              "      <td>631181</td>\n",
              "      <td>nan</td>\n",
              "    </tr>\n",
              "  </tbody>\n",
              "</table>\n",
              "</div>"
            ],
            "text/plain": [
              "                      populacao  2020/Dez\n",
              "uf                                       \n",
              " São Paulo             46289333       nan\n",
              " Minas Gerais          21292666       nan\n",
              " Rio de Janeiro        17366189       nan\n",
              "Bahia Bahia            14930634       nan\n",
              " Paraná                11516840       nan\n",
              " Rio Grande do Sul     11422973       nan\n",
              " Pernambuco             9616621       nan\n",
              " Ceará                  9187103       nan\n",
              "Pará Pará               8690745       nan\n",
              " Santa Catarina         7252502       nan\n",
              " Maranhão               7114598       nan\n",
              " Goiás                  7113540       nan\n",
              " Amazonas               4207714       nan\n",
              " Espírito Santo         4064052       nan\n",
              " Paraíba                4039277       nan\n",
              " Rio Grande do Norte    3534165       nan\n",
              " Mato Grosso            3526220       nan\n",
              " Alagoas                3351543       nan\n",
              " Piauí                  3281480       nan\n",
              " Distrito Federal       3055149       nan\n",
              " Mato Grosso do Sul     2809394       nan\n",
              " Sergipe                2318822       nan\n",
              " Rondônia               1796460       nan\n",
              " Tocantins              1590248       nan\n",
              " Acre                    894470       nan\n",
              " Amapá                   861773       nan\n",
              " Roraima                 631181       nan"
            ]
          },
          "metadata": {
            "tags": []
          },
          "execution_count": 23
        }
      ]
    },
    {
      "cell_type": "code",
      "metadata": {
        "colab": {
          "base_uri": "https://localhost:8080/",
          "height": 917
        },
        "id": "smbmI1y3_LhW",
        "outputId": "94290204-e3b5-42ee-93b1-5ebbad4b5d48"
      },
      "source": [
        "dados_da_populacao"
      ],
      "execution_count": 24,
      "outputs": [
        {
          "output_type": "execute_result",
          "data": {
            "text/html": [
              "<div>\n",
              "<style scoped>\n",
              "    .dataframe tbody tr th:only-of-type {\n",
              "        vertical-align: middle;\n",
              "    }\n",
              "\n",
              "    .dataframe tbody tr th {\n",
              "        vertical-align: top;\n",
              "    }\n",
              "\n",
              "    .dataframe thead th {\n",
              "        text-align: right;\n",
              "    }\n",
              "</style>\n",
              "<table border=\"1\" class=\"dataframe\">\n",
              "  <thead>\n",
              "    <tr style=\"text-align: right;\">\n",
              "      <th></th>\n",
              "      <th>populacao</th>\n",
              "    </tr>\n",
              "    <tr>\n",
              "      <th>uf</th>\n",
              "      <th></th>\n",
              "    </tr>\n",
              "  </thead>\n",
              "  <tbody>\n",
              "    <tr>\n",
              "      <th>São Paulo</th>\n",
              "      <td>46289333</td>\n",
              "    </tr>\n",
              "    <tr>\n",
              "      <th>Minas Gerais</th>\n",
              "      <td>21292666</td>\n",
              "    </tr>\n",
              "    <tr>\n",
              "      <th>Rio de Janeiro</th>\n",
              "      <td>17366189</td>\n",
              "    </tr>\n",
              "    <tr>\n",
              "      <th>Bahia Bahia</th>\n",
              "      <td>14930634</td>\n",
              "    </tr>\n",
              "    <tr>\n",
              "      <th>Paraná</th>\n",
              "      <td>11516840</td>\n",
              "    </tr>\n",
              "    <tr>\n",
              "      <th>Rio Grande do Sul</th>\n",
              "      <td>11422973</td>\n",
              "    </tr>\n",
              "    <tr>\n",
              "      <th>Pernambuco</th>\n",
              "      <td>9616621</td>\n",
              "    </tr>\n",
              "    <tr>\n",
              "      <th>Ceará</th>\n",
              "      <td>9187103</td>\n",
              "    </tr>\n",
              "    <tr>\n",
              "      <th>Pará Pará</th>\n",
              "      <td>8690745</td>\n",
              "    </tr>\n",
              "    <tr>\n",
              "      <th>Santa Catarina</th>\n",
              "      <td>7252502</td>\n",
              "    </tr>\n",
              "    <tr>\n",
              "      <th>Maranhão</th>\n",
              "      <td>7114598</td>\n",
              "    </tr>\n",
              "    <tr>\n",
              "      <th>Goiás</th>\n",
              "      <td>7113540</td>\n",
              "    </tr>\n",
              "    <tr>\n",
              "      <th>Amazonas</th>\n",
              "      <td>4207714</td>\n",
              "    </tr>\n",
              "    <tr>\n",
              "      <th>Espírito Santo</th>\n",
              "      <td>4064052</td>\n",
              "    </tr>\n",
              "    <tr>\n",
              "      <th>Paraíba</th>\n",
              "      <td>4039277</td>\n",
              "    </tr>\n",
              "    <tr>\n",
              "      <th>Rio Grande do Norte</th>\n",
              "      <td>3534165</td>\n",
              "    </tr>\n",
              "    <tr>\n",
              "      <th>Mato Grosso</th>\n",
              "      <td>3526220</td>\n",
              "    </tr>\n",
              "    <tr>\n",
              "      <th>Alagoas</th>\n",
              "      <td>3351543</td>\n",
              "    </tr>\n",
              "    <tr>\n",
              "      <th>Piauí</th>\n",
              "      <td>3281480</td>\n",
              "    </tr>\n",
              "    <tr>\n",
              "      <th>Distrito Federal</th>\n",
              "      <td>3055149</td>\n",
              "    </tr>\n",
              "    <tr>\n",
              "      <th>Mato Grosso do Sul</th>\n",
              "      <td>2809394</td>\n",
              "    </tr>\n",
              "    <tr>\n",
              "      <th>Sergipe</th>\n",
              "      <td>2318822</td>\n",
              "    </tr>\n",
              "    <tr>\n",
              "      <th>Rondônia</th>\n",
              "      <td>1796460</td>\n",
              "    </tr>\n",
              "    <tr>\n",
              "      <th>Tocantins</th>\n",
              "      <td>1590248</td>\n",
              "    </tr>\n",
              "    <tr>\n",
              "      <th>Acre</th>\n",
              "      <td>894470</td>\n",
              "    </tr>\n",
              "    <tr>\n",
              "      <th>Amapá</th>\n",
              "      <td>861773</td>\n",
              "    </tr>\n",
              "    <tr>\n",
              "      <th>Roraima</th>\n",
              "      <td>631181</td>\n",
              "    </tr>\n",
              "  </tbody>\n",
              "</table>\n",
              "</div>"
            ],
            "text/plain": [
              "                      populacao\n",
              "uf                             \n",
              " São Paulo             46289333\n",
              " Minas Gerais          21292666\n",
              " Rio de Janeiro        17366189\n",
              "Bahia Bahia            14930634\n",
              " Paraná                11516840\n",
              " Rio Grande do Sul     11422973\n",
              " Pernambuco             9616621\n",
              " Ceará                  9187103\n",
              "Pará Pará               8690745\n",
              " Santa Catarina         7252502\n",
              " Maranhão               7114598\n",
              " Goiás                  7113540\n",
              " Amazonas               4207714\n",
              " Espírito Santo         4064052\n",
              " Paraíba                4039277\n",
              " Rio Grande do Norte    3534165\n",
              " Mato Grosso            3526220\n",
              " Alagoas                3351543\n",
              " Piauí                  3281480\n",
              " Distrito Federal       3055149\n",
              " Mato Grosso do Sul     2809394\n",
              " Sergipe                2318822\n",
              " Rondônia               1796460\n",
              " Tocantins              1590248\n",
              " Acre                    894470\n",
              " Amapá                   861773\n",
              " Roraima                 631181"
            ]
          },
          "metadata": {
            "tags": []
          },
          "execution_count": 24
        }
      ]
    },
    {
      "cell_type": "code",
      "metadata": {
        "colab": {
          "base_uri": "https://localhost:8080/"
        },
        "id": "GZAVkLnR_Xac",
        "outputId": "fe0a5a31-3893-4c50-cbc5-51c9271c743e"
      },
      "source": [
        "# existe um espaço antes dos nomes dos estados na series dados_da_populacao\n",
        "dados_da_populacao.index"
      ],
      "execution_count": 25,
      "outputs": [
        {
          "output_type": "execute_result",
          "data": {
            "text/plain": [
              "Index([' São Paulo', ' Minas Gerais', ' Rio de Janeiro', 'Bahia Bahia',\n",
              "       ' Paraná', ' Rio Grande do Sul', ' Pernambuco', ' Ceará', 'Pará Pará',\n",
              "       ' Santa Catarina', ' Maranhão', ' Goiás', ' Amazonas',\n",
              "       ' Espírito Santo', ' Paraíba', ' Rio Grande do Norte', ' Mato Grosso',\n",
              "       ' Alagoas', ' Piauí', ' Distrito Federal', ' Mato Grosso do Sul',\n",
              "       ' Sergipe', ' Rondônia', ' Tocantins', ' Acre', ' Amapá', ' Roraima'],\n",
              "      dtype='object', name='uf')"
            ]
          },
          "metadata": {
            "tags": []
          },
          "execution_count": 25
        }
      ]
    },
    {
      "cell_type": "code",
      "metadata": {
        "id": "uib5ssnZ__SF"
      },
      "source": [
        "# para retirar os espaço antes e depois de uma string tem a função strip()\n",
        "dados_da_populacao.index = dados_da_populacao.index.str.strip()"
      ],
      "execution_count": 26,
      "outputs": []
    },
    {
      "cell_type": "code",
      "metadata": {
        "colab": {
          "base_uri": "https://localhost:8080/"
        },
        "id": "Y1_FNu3ZANg4",
        "outputId": "0049f63e-5cb7-4e58-fc97-d0f6c7bdb481"
      },
      "source": [
        "dados_da_populacao.index"
      ],
      "execution_count": 27,
      "outputs": [
        {
          "output_type": "execute_result",
          "data": {
            "text/plain": [
              "Index(['São Paulo', 'Minas Gerais', 'Rio de Janeiro', 'Bahia Bahia', 'Paraná',\n",
              "       'Rio Grande do Sul', 'Pernambuco', 'Ceará', 'Pará Pará',\n",
              "       'Santa Catarina', 'Maranhão', 'Goiás', 'Amazonas', 'Espírito Santo',\n",
              "       'Paraíba', 'Rio Grande do Norte', 'Mato Grosso', 'Alagoas', 'Piauí',\n",
              "       'Distrito Federal', 'Mato Grosso do Sul', 'Sergipe', 'Rondônia',\n",
              "       'Tocantins', 'Acre', 'Amapá', 'Roraima'],\n",
              "      dtype='object', name='uf')"
            ]
          },
          "metadata": {
            "tags": []
          },
          "execution_count": 27
        }
      ]
    },
    {
      "cell_type": "code",
      "metadata": {
        "colab": {
          "base_uri": "https://localhost:8080/",
          "height": 917
        },
        "id": "5fM5zrijAaSg",
        "outputId": "e80e868c-ced7-490b-a82d-1b701f46772d"
      },
      "source": [
        "# alguns estados vieram com o nome duplicado devido a configuração do código HTML na página de onde copiamos os dados\n",
        "dados_da_populacao.join(gastos_ultimo_mes)"
      ],
      "execution_count": 28,
      "outputs": [
        {
          "output_type": "execute_result",
          "data": {
            "text/html": [
              "<div>\n",
              "<style scoped>\n",
              "    .dataframe tbody tr th:only-of-type {\n",
              "        vertical-align: middle;\n",
              "    }\n",
              "\n",
              "    .dataframe tbody tr th {\n",
              "        vertical-align: top;\n",
              "    }\n",
              "\n",
              "    .dataframe thead th {\n",
              "        text-align: right;\n",
              "    }\n",
              "</style>\n",
              "<table border=\"1\" class=\"dataframe\">\n",
              "  <thead>\n",
              "    <tr style=\"text-align: right;\">\n",
              "      <th></th>\n",
              "      <th>populacao</th>\n",
              "      <th>2020/Dez</th>\n",
              "    </tr>\n",
              "    <tr>\n",
              "      <th>uf</th>\n",
              "      <th></th>\n",
              "      <th></th>\n",
              "    </tr>\n",
              "  </thead>\n",
              "  <tbody>\n",
              "    <tr>\n",
              "      <th>São Paulo</th>\n",
              "      <td>46289333</td>\n",
              "      <td>326.85</td>\n",
              "    </tr>\n",
              "    <tr>\n",
              "      <th>Minas Gerais</th>\n",
              "      <td>21292666</td>\n",
              "      <td>166.38</td>\n",
              "    </tr>\n",
              "    <tr>\n",
              "      <th>Rio de Janeiro</th>\n",
              "      <td>17366189</td>\n",
              "      <td>90.57</td>\n",
              "    </tr>\n",
              "    <tr>\n",
              "      <th>Bahia Bahia</th>\n",
              "      <td>14930634</td>\n",
              "      <td>nan</td>\n",
              "    </tr>\n",
              "    <tr>\n",
              "      <th>Paraná</th>\n",
              "      <td>11516840</td>\n",
              "      <td>122.15</td>\n",
              "    </tr>\n",
              "    <tr>\n",
              "      <th>Rio Grande do Sul</th>\n",
              "      <td>11422973</td>\n",
              "      <td>116.83</td>\n",
              "    </tr>\n",
              "    <tr>\n",
              "      <th>Pernambuco</th>\n",
              "      <td>9616621</td>\n",
              "      <td>77.88</td>\n",
              "    </tr>\n",
              "    <tr>\n",
              "      <th>Ceará</th>\n",
              "      <td>9187103</td>\n",
              "      <td>50.27</td>\n",
              "    </tr>\n",
              "    <tr>\n",
              "      <th>Pará Pará</th>\n",
              "      <td>8690745</td>\n",
              "      <td>nan</td>\n",
              "    </tr>\n",
              "    <tr>\n",
              "      <th>Santa Catarina</th>\n",
              "      <td>7252502</td>\n",
              "      <td>72.72</td>\n",
              "    </tr>\n",
              "    <tr>\n",
              "      <th>Maranhão</th>\n",
              "      <td>7114598</td>\n",
              "      <td>30.93</td>\n",
              "    </tr>\n",
              "    <tr>\n",
              "      <th>Goiás</th>\n",
              "      <td>7113540</td>\n",
              "      <td>37.61</td>\n",
              "    </tr>\n",
              "    <tr>\n",
              "      <th>Amazonas</th>\n",
              "      <td>4207714</td>\n",
              "      <td>21.55</td>\n",
              "    </tr>\n",
              "    <tr>\n",
              "      <th>Espírito Santo</th>\n",
              "      <td>4064052</td>\n",
              "      <td>40.50</td>\n",
              "    </tr>\n",
              "    <tr>\n",
              "      <th>Paraíba</th>\n",
              "      <td>4039277</td>\n",
              "      <td>20.36</td>\n",
              "    </tr>\n",
              "    <tr>\n",
              "      <th>Rio Grande do Norte</th>\n",
              "      <td>3534165</td>\n",
              "      <td>27.28</td>\n",
              "    </tr>\n",
              "    <tr>\n",
              "      <th>Mato Grosso</th>\n",
              "      <td>3526220</td>\n",
              "      <td>18.85</td>\n",
              "    </tr>\n",
              "    <tr>\n",
              "      <th>Alagoas</th>\n",
              "      <td>3351543</td>\n",
              "      <td>17.46</td>\n",
              "    </tr>\n",
              "    <tr>\n",
              "      <th>Piauí</th>\n",
              "      <td>3281480</td>\n",
              "      <td>19.35</td>\n",
              "    </tr>\n",
              "    <tr>\n",
              "      <th>Distrito Federal</th>\n",
              "      <td>3055149</td>\n",
              "      <td>22.55</td>\n",
              "    </tr>\n",
              "    <tr>\n",
              "      <th>Mato Grosso do Sul</th>\n",
              "      <td>2809394</td>\n",
              "      <td>21.39</td>\n",
              "    </tr>\n",
              "    <tr>\n",
              "      <th>Sergipe</th>\n",
              "      <td>2318822</td>\n",
              "      <td>11.00</td>\n",
              "    </tr>\n",
              "    <tr>\n",
              "      <th>Rondônia</th>\n",
              "      <td>1796460</td>\n",
              "      <td>9.00</td>\n",
              "    </tr>\n",
              "    <tr>\n",
              "      <th>Tocantins</th>\n",
              "      <td>1590248</td>\n",
              "      <td>0.69</td>\n",
              "    </tr>\n",
              "    <tr>\n",
              "      <th>Acre</th>\n",
              "      <td>894470</td>\n",
              "      <td>3.71</td>\n",
              "    </tr>\n",
              "    <tr>\n",
              "      <th>Amapá</th>\n",
              "      <td>861773</td>\n",
              "      <td>2.83</td>\n",
              "    </tr>\n",
              "    <tr>\n",
              "      <th>Roraima</th>\n",
              "      <td>631181</td>\n",
              "      <td>3.13</td>\n",
              "    </tr>\n",
              "  </tbody>\n",
              "</table>\n",
              "</div>"
            ],
            "text/plain": [
              "                     populacao  2020/Dez\n",
              "uf                                      \n",
              "São Paulo             46289333    326.85\n",
              "Minas Gerais          21292666    166.38\n",
              "Rio de Janeiro        17366189     90.57\n",
              "Bahia Bahia           14930634       nan\n",
              "Paraná                11516840    122.15\n",
              "Rio Grande do Sul     11422973    116.83\n",
              "Pernambuco             9616621     77.88\n",
              "Ceará                  9187103     50.27\n",
              "Pará Pará              8690745       nan\n",
              "Santa Catarina         7252502     72.72\n",
              "Maranhão               7114598     30.93\n",
              "Goiás                  7113540     37.61\n",
              "Amazonas               4207714     21.55\n",
              "Espírito Santo         4064052     40.50\n",
              "Paraíba                4039277     20.36\n",
              "Rio Grande do Norte    3534165     27.28\n",
              "Mato Grosso            3526220     18.85\n",
              "Alagoas                3351543     17.46\n",
              "Piauí                  3281480     19.35\n",
              "Distrito Federal       3055149     22.55\n",
              "Mato Grosso do Sul     2809394     21.39\n",
              "Sergipe                2318822     11.00\n",
              "Rondônia               1796460      9.00\n",
              "Tocantins              1590248      0.69\n",
              "Acre                    894470      3.71\n",
              "Amapá                   861773      2.83\n",
              "Roraima                 631181      3.13"
            ]
          },
          "metadata": {
            "tags": []
          },
          "execution_count": 28
        }
      ]
    },
    {
      "cell_type": "code",
      "metadata": {
        "colab": {
          "base_uri": "https://localhost:8080/"
        },
        "id": "g3mqrgaCBBEI",
        "outputId": "9ae19676-f7be-4d67-e7a8-407b205cf7cf"
      },
      "source": [
        "# o indice da series gastos_ultimo_mes está correto e podemos utilizar ele como base para tratar esse index / pesquisar interpolação de strings\n",
        "for estado in gastos_ultimo_mes.index:\n",
        "  # print(f'{estado} {estado} => {estado}')\n",
        "  dados_da_populacao.index = dados_da_populacao.index.str.replace(f'{estado} {estado}', estado)\n",
        "dados_da_populacao.index"
      ],
      "execution_count": 29,
      "outputs": [
        {
          "output_type": "execute_result",
          "data": {
            "text/plain": [
              "Index(['São Paulo', 'Minas Gerais', 'Rio de Janeiro', 'Bahia', 'Paraná',\n",
              "       'Rio Grande do Sul', 'Pernambuco', 'Ceará', 'Pará', 'Santa Catarina',\n",
              "       'Maranhão', 'Goiás', 'Amazonas', 'Espírito Santo', 'Paraíba',\n",
              "       'Rio Grande do Norte', 'Mato Grosso', 'Alagoas', 'Piauí',\n",
              "       'Distrito Federal', 'Mato Grosso do Sul', 'Sergipe', 'Rondônia',\n",
              "       'Tocantins', 'Acre', 'Amapá', 'Roraima'],\n",
              "      dtype='object', name='uf')"
            ]
          },
          "metadata": {
            "tags": []
          },
          "execution_count": 29
        }
      ]
    },
    {
      "cell_type": "code",
      "metadata": {
        "colab": {
          "base_uri": "https://localhost:8080/",
          "height": 917
        },
        "id": "QTCmlmaxDct-",
        "outputId": "afd50cd2-a841-4631-9b3a-64c1a46207f4"
      },
      "source": [
        "populacao = dados_da_populacao.join(gastos_ultimo_mes)\n",
        "populacao"
      ],
      "execution_count": 30,
      "outputs": [
        {
          "output_type": "execute_result",
          "data": {
            "text/html": [
              "<div>\n",
              "<style scoped>\n",
              "    .dataframe tbody tr th:only-of-type {\n",
              "        vertical-align: middle;\n",
              "    }\n",
              "\n",
              "    .dataframe tbody tr th {\n",
              "        vertical-align: top;\n",
              "    }\n",
              "\n",
              "    .dataframe thead th {\n",
              "        text-align: right;\n",
              "    }\n",
              "</style>\n",
              "<table border=\"1\" class=\"dataframe\">\n",
              "  <thead>\n",
              "    <tr style=\"text-align: right;\">\n",
              "      <th></th>\n",
              "      <th>populacao</th>\n",
              "      <th>2020/Dez</th>\n",
              "    </tr>\n",
              "    <tr>\n",
              "      <th>uf</th>\n",
              "      <th></th>\n",
              "      <th></th>\n",
              "    </tr>\n",
              "  </thead>\n",
              "  <tbody>\n",
              "    <tr>\n",
              "      <th>São Paulo</th>\n",
              "      <td>46289333</td>\n",
              "      <td>326.85</td>\n",
              "    </tr>\n",
              "    <tr>\n",
              "      <th>Minas Gerais</th>\n",
              "      <td>21292666</td>\n",
              "      <td>166.38</td>\n",
              "    </tr>\n",
              "    <tr>\n",
              "      <th>Rio de Janeiro</th>\n",
              "      <td>17366189</td>\n",
              "      <td>90.57</td>\n",
              "    </tr>\n",
              "    <tr>\n",
              "      <th>Bahia</th>\n",
              "      <td>14930634</td>\n",
              "      <td>83.13</td>\n",
              "    </tr>\n",
              "    <tr>\n",
              "      <th>Paraná</th>\n",
              "      <td>11516840</td>\n",
              "      <td>122.15</td>\n",
              "    </tr>\n",
              "    <tr>\n",
              "      <th>Rio Grande do Sul</th>\n",
              "      <td>11422973</td>\n",
              "      <td>116.83</td>\n",
              "    </tr>\n",
              "    <tr>\n",
              "      <th>Pernambuco</th>\n",
              "      <td>9616621</td>\n",
              "      <td>77.88</td>\n",
              "    </tr>\n",
              "    <tr>\n",
              "      <th>Ceará</th>\n",
              "      <td>9187103</td>\n",
              "      <td>50.27</td>\n",
              "    </tr>\n",
              "    <tr>\n",
              "      <th>Pará</th>\n",
              "      <td>8690745</td>\n",
              "      <td>36.91</td>\n",
              "    </tr>\n",
              "    <tr>\n",
              "      <th>Santa Catarina</th>\n",
              "      <td>7252502</td>\n",
              "      <td>72.72</td>\n",
              "    </tr>\n",
              "    <tr>\n",
              "      <th>Maranhão</th>\n",
              "      <td>7114598</td>\n",
              "      <td>30.93</td>\n",
              "    </tr>\n",
              "    <tr>\n",
              "      <th>Goiás</th>\n",
              "      <td>7113540</td>\n",
              "      <td>37.61</td>\n",
              "    </tr>\n",
              "    <tr>\n",
              "      <th>Amazonas</th>\n",
              "      <td>4207714</td>\n",
              "      <td>21.55</td>\n",
              "    </tr>\n",
              "    <tr>\n",
              "      <th>Espírito Santo</th>\n",
              "      <td>4064052</td>\n",
              "      <td>40.50</td>\n",
              "    </tr>\n",
              "    <tr>\n",
              "      <th>Paraíba</th>\n",
              "      <td>4039277</td>\n",
              "      <td>20.36</td>\n",
              "    </tr>\n",
              "    <tr>\n",
              "      <th>Rio Grande do Norte</th>\n",
              "      <td>3534165</td>\n",
              "      <td>27.28</td>\n",
              "    </tr>\n",
              "    <tr>\n",
              "      <th>Mato Grosso</th>\n",
              "      <td>3526220</td>\n",
              "      <td>18.85</td>\n",
              "    </tr>\n",
              "    <tr>\n",
              "      <th>Alagoas</th>\n",
              "      <td>3351543</td>\n",
              "      <td>17.46</td>\n",
              "    </tr>\n",
              "    <tr>\n",
              "      <th>Piauí</th>\n",
              "      <td>3281480</td>\n",
              "      <td>19.35</td>\n",
              "    </tr>\n",
              "    <tr>\n",
              "      <th>Distrito Federal</th>\n",
              "      <td>3055149</td>\n",
              "      <td>22.55</td>\n",
              "    </tr>\n",
              "    <tr>\n",
              "      <th>Mato Grosso do Sul</th>\n",
              "      <td>2809394</td>\n",
              "      <td>21.39</td>\n",
              "    </tr>\n",
              "    <tr>\n",
              "      <th>Sergipe</th>\n",
              "      <td>2318822</td>\n",
              "      <td>11.00</td>\n",
              "    </tr>\n",
              "    <tr>\n",
              "      <th>Rondônia</th>\n",
              "      <td>1796460</td>\n",
              "      <td>9.00</td>\n",
              "    </tr>\n",
              "    <tr>\n",
              "      <th>Tocantins</th>\n",
              "      <td>1590248</td>\n",
              "      <td>0.69</td>\n",
              "    </tr>\n",
              "    <tr>\n",
              "      <th>Acre</th>\n",
              "      <td>894470</td>\n",
              "      <td>3.71</td>\n",
              "    </tr>\n",
              "    <tr>\n",
              "      <th>Amapá</th>\n",
              "      <td>861773</td>\n",
              "      <td>2.83</td>\n",
              "    </tr>\n",
              "    <tr>\n",
              "      <th>Roraima</th>\n",
              "      <td>631181</td>\n",
              "      <td>3.13</td>\n",
              "    </tr>\n",
              "  </tbody>\n",
              "</table>\n",
              "</div>"
            ],
            "text/plain": [
              "                     populacao  2020/Dez\n",
              "uf                                      \n",
              "São Paulo             46289333    326.85\n",
              "Minas Gerais          21292666    166.38\n",
              "Rio de Janeiro        17366189     90.57\n",
              "Bahia                 14930634     83.13\n",
              "Paraná                11516840    122.15\n",
              "Rio Grande do Sul     11422973    116.83\n",
              "Pernambuco             9616621     77.88\n",
              "Ceará                  9187103     50.27\n",
              "Pará                   8690745     36.91\n",
              "Santa Catarina         7252502     72.72\n",
              "Maranhão               7114598     30.93\n",
              "Goiás                  7113540     37.61\n",
              "Amazonas               4207714     21.55\n",
              "Espírito Santo         4064052     40.50\n",
              "Paraíba                4039277     20.36\n",
              "Rio Grande do Norte    3534165     27.28\n",
              "Mato Grosso            3526220     18.85\n",
              "Alagoas                3351543     17.46\n",
              "Piauí                  3281480     19.35\n",
              "Distrito Federal       3055149     22.55\n",
              "Mato Grosso do Sul     2809394     21.39\n",
              "Sergipe                2318822     11.00\n",
              "Rondônia               1796460      9.00\n",
              "Tocantins              1590248      0.69\n",
              "Acre                    894470      3.71\n",
              "Amapá                   861773      2.83\n",
              "Roraima                 631181      3.13"
            ]
          },
          "metadata": {
            "tags": []
          },
          "execution_count": 30
        }
      ]
    },
    {
      "cell_type": "code",
      "metadata": {
        "id": "jKWmccyOEI0H"
      },
      "source": [
        ""
      ],
      "execution_count": 30,
      "outputs": []
    },
    {
      "cell_type": "markdown",
      "metadata": {
        "id": "USVkk-WbEjkJ"
      },
      "source": [
        "# Desafio 01 - Entre nos dados do wikipedia e Leia a Base de dados direto do wikipedia."
      ]
    },
    {
      "cell_type": "code",
      "metadata": {
        "id": "lGXS8MwZEkre"
      },
      "source": [
        ""
      ],
      "execution_count": 30,
      "outputs": []
    },
    {
      "cell_type": "markdown",
      "metadata": {
        "id": "9z9bj-sgElBf"
      },
      "source": [
        "# Desafio 02 - Neste desafio temos uma série de passos:\n",
        "\n",
        "### Padronizar os nomes das colunas\n",
        "### Transformar os dados nos tipos corretos\n",
        "### Transformar a UF em index\n",
        "\n",
        "Esse desafio já foi completo durante o curso da aula."
      ]
    },
    {
      "cell_type": "code",
      "metadata": {
        "id": "g80xEXNnEwt8"
      },
      "source": [
        ""
      ],
      "execution_count": 30,
      "outputs": []
    },
    {
      "cell_type": "markdown",
      "metadata": {
        "id": "BPnh8EIpE1yo"
      },
      "source": [
        "# Desafio 03 - Buscar na documentação alguns métodos envolvendo strings"
      ]
    },
    {
      "cell_type": "markdown",
      "metadata": {
        "id": "MM6jdPHcAVjR"
      },
      "source": [
        "[Documentação Pandas - Trabalhando com texto](https://pandas.pydata.org/pandas-docs/stable/user_guide/text.html)"
      ]
    },
    {
      "cell_type": "code",
      "metadata": {
        "id": "hID9MnKcE39f"
      },
      "source": [
        ""
      ],
      "execution_count": 30,
      "outputs": []
    },
    {
      "cell_type": "markdown",
      "metadata": {
        "id": "AO7sIStWE4gJ"
      },
      "source": [
        "# Desafio 04 - Desenvolver uma função para a limpeza e tratamento dos dados, retornando duas tabelas \"população\" e \"unida\"."
      ]
    },
    {
      "cell_type": "code",
      "metadata": {
        "id": "zK5qjWDZE7ul"
      },
      "source": [
        ""
      ],
      "execution_count": 30,
      "outputs": []
    },
    {
      "cell_type": "markdown",
      "metadata": {
        "id": "gDUTGhBIu5yV"
      },
      "source": [
        "# Aula 2"
      ]
    },
    {
      "cell_type": "code",
      "metadata": {
        "colab": {
          "base_uri": "https://localhost:8080/",
          "height": 235
        },
        "id": "SlpDl6Avu60K",
        "outputId": "de865678-f32e-4618-add6-a1499103f993"
      },
      "source": [
        "populacao.head()"
      ],
      "execution_count": 31,
      "outputs": [
        {
          "output_type": "execute_result",
          "data": {
            "text/html": [
              "<div>\n",
              "<style scoped>\n",
              "    .dataframe tbody tr th:only-of-type {\n",
              "        vertical-align: middle;\n",
              "    }\n",
              "\n",
              "    .dataframe tbody tr th {\n",
              "        vertical-align: top;\n",
              "    }\n",
              "\n",
              "    .dataframe thead th {\n",
              "        text-align: right;\n",
              "    }\n",
              "</style>\n",
              "<table border=\"1\" class=\"dataframe\">\n",
              "  <thead>\n",
              "    <tr style=\"text-align: right;\">\n",
              "      <th></th>\n",
              "      <th>populacao</th>\n",
              "      <th>2020/Dez</th>\n",
              "    </tr>\n",
              "    <tr>\n",
              "      <th>uf</th>\n",
              "      <th></th>\n",
              "      <th></th>\n",
              "    </tr>\n",
              "  </thead>\n",
              "  <tbody>\n",
              "    <tr>\n",
              "      <th>São Paulo</th>\n",
              "      <td>46289333</td>\n",
              "      <td>326.85</td>\n",
              "    </tr>\n",
              "    <tr>\n",
              "      <th>Minas Gerais</th>\n",
              "      <td>21292666</td>\n",
              "      <td>166.38</td>\n",
              "    </tr>\n",
              "    <tr>\n",
              "      <th>Rio de Janeiro</th>\n",
              "      <td>17366189</td>\n",
              "      <td>90.57</td>\n",
              "    </tr>\n",
              "    <tr>\n",
              "      <th>Bahia</th>\n",
              "      <td>14930634</td>\n",
              "      <td>83.13</td>\n",
              "    </tr>\n",
              "    <tr>\n",
              "      <th>Paraná</th>\n",
              "      <td>11516840</td>\n",
              "      <td>122.15</td>\n",
              "    </tr>\n",
              "  </tbody>\n",
              "</table>\n",
              "</div>"
            ],
            "text/plain": [
              "                populacao  2020/Dez\n",
              "uf                                 \n",
              "São Paulo        46289333    326.85\n",
              "Minas Gerais     21292666    166.38\n",
              "Rio de Janeiro   17366189     90.57\n",
              "Bahia            14930634     83.13\n",
              "Paraná           11516840    122.15"
            ]
          },
          "metadata": {
            "tags": []
          },
          "execution_count": 31
        }
      ]
    },
    {
      "cell_type": "code",
      "metadata": {
        "colab": {
          "base_uri": "https://localhost:8080/",
          "height": 308
        },
        "id": "YOmctIeFvHlZ",
        "outputId": "75fd799e-2a8c-4ffe-a081-49be6bb22bb4"
      },
      "source": [
        "populacao.plot()"
      ],
      "execution_count": 32,
      "outputs": [
        {
          "output_type": "execute_result",
          "data": {
            "text/plain": [
              "<matplotlib.axes._subplots.AxesSubplot at 0x7f4dd1ec5390>"
            ]
          },
          "metadata": {
            "tags": []
          },
          "execution_count": 32
        },
        {
          "output_type": "display_data",
          "data": {
            "image/png": "[encoded data removed]",
            "text/plain": [
              "<Figure size 432x288 with 1 Axes>"
            ]
          },
          "metadata": {
            "tags": [],
            "needs_background": "light"
          }
        }
      ]
    },
    {
      "cell_type": "code",
      "metadata": {
        "colab": {
          "base_uri": "https://localhost:8080/",
          "height": 308
        },
        "id": "YHibb30Ov2cH",
        "outputId": "b3063bd4-51cb-4668-e566-7bda5a408099"
      },
      "source": [
        "# um gráfico com o eixo y tendo 2 variáveis sem relação torna a visualização ruim // não usar eixo y secundário\n",
        "populacao['gastos'] = populacao['2020/Dez'] * 1000000\n",
        "populacao[['gastos', 'populacao']].plot()"
      ],
      "execution_count": 33,
      "outputs": [
        {
          "output_type": "execute_result",
          "data": {
            "text/plain": [
              "<matplotlib.axes._subplots.AxesSubplot at 0x7f4dd1e2a610>"
            ]
          },
          "metadata": {
            "tags": []
          },
          "execution_count": 33
        },
        {
          "output_type": "display_data",
          "data": {
            "image/png": "[encoded data removed]",
            "text/plain": [
              "<Figure size 432x288 with 1 Axes>"
            ]
          },
          "metadata": {
            "tags": [],
            "needs_background": "light"
          }
        }
      ]
    },
    {
      "cell_type": "code",
      "metadata": {
        "colab": {
          "base_uri": "https://localhost:8080/",
          "height": 142
        },
        "id": "waehnmPHxrzC",
        "outputId": "657852cb-c645-4816-d3dc-968289665619"
      },
      "source": [
        "# olhando o gráfico temos a impressão que sp tem um gasto por habitante muito maior que rs, por exemplo\n",
        "# ao ver a tabela e calular o gasto por habitante vemos que não é isso que os dados mostram\n",
        "populacao.loc[['São Paulo', 'Rio Grande do Sul']]"
      ],
      "execution_count": 34,
      "outputs": [
        {
          "output_type": "execute_result",
          "data": {
            "text/html": [
              "<div>\n",
              "<style scoped>\n",
              "    .dataframe tbody tr th:only-of-type {\n",
              "        vertical-align: middle;\n",
              "    }\n",
              "\n",
              "    .dataframe tbody tr th {\n",
              "        vertical-align: top;\n",
              "    }\n",
              "\n",
              "    .dataframe thead th {\n",
              "        text-align: right;\n",
              "    }\n",
              "</style>\n",
              "<table border=\"1\" class=\"dataframe\">\n",
              "  <thead>\n",
              "    <tr style=\"text-align: right;\">\n",
              "      <th></th>\n",
              "      <th>populacao</th>\n",
              "      <th>2020/Dez</th>\n",
              "      <th>gastos</th>\n",
              "    </tr>\n",
              "    <tr>\n",
              "      <th>uf</th>\n",
              "      <th></th>\n",
              "      <th></th>\n",
              "      <th></th>\n",
              "    </tr>\n",
              "  </thead>\n",
              "  <tbody>\n",
              "    <tr>\n",
              "      <th>São Paulo</th>\n",
              "      <td>46289333</td>\n",
              "      <td>326.85</td>\n",
              "      <td>326846228.95</td>\n",
              "    </tr>\n",
              "    <tr>\n",
              "      <th>Rio Grande do Sul</th>\n",
              "      <td>11422973</td>\n",
              "      <td>116.83</td>\n",
              "      <td>116833971.73</td>\n",
              "    </tr>\n",
              "  </tbody>\n",
              "</table>\n",
              "</div>"
            ],
            "text/plain": [
              "                   populacao  2020/Dez       gastos\n",
              "uf                                                 \n",
              "São Paulo           46289333    326.85 326846228.95\n",
              "Rio Grande do Sul   11422973    116.83 116833971.73"
            ]
          },
          "metadata": {
            "tags": []
          },
          "execution_count": 34
        }
      ]
    },
    {
      "cell_type": "code",
      "metadata": {
        "colab": {
          "base_uri": "https://localhost:8080/",
          "height": 235
        },
        "id": "FHPdR1FMyIr2",
        "outputId": "f0a36ffe-8c74-4961-ddf0-7abac0fcc8b4"
      },
      "source": [
        "# para verificar o real gasto por habitante dividimos os gastos totais pela populacao\n",
        "populacao['gasto_por_habitante'] = populacao['gastos'] / populacao['populacao']\n",
        "populacao.head()"
      ],
      "execution_count": 35,
      "outputs": [
        {
          "output_type": "execute_result",
          "data": {
            "text/html": [
              "<div>\n",
              "<style scoped>\n",
              "    .dataframe tbody tr th:only-of-type {\n",
              "        vertical-align: middle;\n",
              "    }\n",
              "\n",
              "    .dataframe tbody tr th {\n",
              "        vertical-align: top;\n",
              "    }\n",
              "\n",
              "    .dataframe thead th {\n",
              "        text-align: right;\n",
              "    }\n",
              "</style>\n",
              "<table border=\"1\" class=\"dataframe\">\n",
              "  <thead>\n",
              "    <tr style=\"text-align: right;\">\n",
              "      <th></th>\n",
              "      <th>populacao</th>\n",
              "      <th>2020/Dez</th>\n",
              "      <th>gastos</th>\n",
              "      <th>gasto_por_habitante</th>\n",
              "    </tr>\n",
              "    <tr>\n",
              "      <th>uf</th>\n",
              "      <th></th>\n",
              "      <th></th>\n",
              "      <th></th>\n",
              "      <th></th>\n",
              "    </tr>\n",
              "  </thead>\n",
              "  <tbody>\n",
              "    <tr>\n",
              "      <th>São Paulo</th>\n",
              "      <td>46289333</td>\n",
              "      <td>326.85</td>\n",
              "      <td>326846228.95</td>\n",
              "      <td>7.06</td>\n",
              "    </tr>\n",
              "    <tr>\n",
              "      <th>Minas Gerais</th>\n",
              "      <td>21292666</td>\n",
              "      <td>166.38</td>\n",
              "      <td>166376967.67</td>\n",
              "      <td>7.81</td>\n",
              "    </tr>\n",
              "    <tr>\n",
              "      <th>Rio de Janeiro</th>\n",
              "      <td>17366189</td>\n",
              "      <td>90.57</td>\n",
              "      <td>90567351.87</td>\n",
              "      <td>5.22</td>\n",
              "    </tr>\n",
              "    <tr>\n",
              "      <th>Bahia</th>\n",
              "      <td>14930634</td>\n",
              "      <td>83.13</td>\n",
              "      <td>83131785.74</td>\n",
              "      <td>5.57</td>\n",
              "    </tr>\n",
              "    <tr>\n",
              "      <th>Paraná</th>\n",
              "      <td>11516840</td>\n",
              "      <td>122.15</td>\n",
              "      <td>122146256.92</td>\n",
              "      <td>10.61</td>\n",
              "    </tr>\n",
              "  </tbody>\n",
              "</table>\n",
              "</div>"
            ],
            "text/plain": [
              "                populacao  2020/Dez       gastos  gasto_por_habitante\n",
              "uf                                                                   \n",
              "São Paulo        46289333    326.85 326846228.95                 7.06\n",
              "Minas Gerais     21292666    166.38 166376967.67                 7.81\n",
              "Rio de Janeiro   17366189     90.57  90567351.87                 5.22\n",
              "Bahia            14930634     83.13  83131785.74                 5.57\n",
              "Paraná           11516840    122.15 122146256.92                10.61"
            ]
          },
          "metadata": {
            "tags": []
          },
          "execution_count": 35
        }
      ]
    },
    {
      "cell_type": "code",
      "metadata": {
        "colab": {
          "base_uri": "https://localhost:8080/",
          "height": 388
        },
        "id": "y9NGY7ZPzv37",
        "outputId": "c086987f-f038-4b71-a584-c7684b80557f"
      },
      "source": [
        "populacao['gasto_por_habitante'].plot(kind='bar')"
      ],
      "execution_count": 36,
      "outputs": [
        {
          "output_type": "execute_result",
          "data": {
            "text/plain": [
              "<matplotlib.axes._subplots.AxesSubplot at 0x7f4dd1da4ed0>"
            ]
          },
          "metadata": {
            "tags": []
          },
          "execution_count": 36
        },
        {
          "output_type": "display_data",
          "data": {
            "image/png": "[encoded data removed]",
            "text/plain": [
              "<Figure size 432x288 with 1 Axes>"
            ]
          },
          "metadata": {
            "tags": [],
            "needs_background": "light"
          }
        }
      ]
    },
    {
      "cell_type": "code",
      "metadata": {
        "colab": {
          "base_uri": "https://localhost:8080/",
          "height": 307
        },
        "id": "rRUPOx5uz8e9",
        "outputId": "26deecf8-f760-4920-f2d9-74cec4efc33b"
      },
      "source": [
        "# importando o seaborn para plotar um gráfico scatterplo\n",
        "import seaborn as sns\n",
        "\n",
        "sns.scatterplot(data=populacao, x='populacao', y='gastos')\n",
        "\n",
        "# na imagem podemos ver uma leve tendência entre a populacao e os gastos"
      ],
      "execution_count": 37,
      "outputs": [
        {
          "output_type": "execute_result",
          "data": {
            "text/plain": [
              "<matplotlib.axes._subplots.AxesSubplot at 0x7f4dc34332d0>"
            ]
          },
          "metadata": {
            "tags": []
          },
          "execution_count": 37
        },
        {
          "output_type": "display_data",
          "data": {
            "image/png": "[encoded data removed]",
            "text/plain": [
              "<Figure size 432x288 with 1 Axes>"
            ]
          },
          "metadata": {
            "tags": [],
            "needs_background": "light"
          }
        }
      ]
    },
    {
      "cell_type": "code",
      "metadata": {
        "colab": {
          "base_uri": "https://localhost:8080/",
          "height": 416
        },
        "id": "_fBledmi1Za4",
        "outputId": "f6cf9187-9df3-4920-cc21-715178a60539"
      },
      "source": [
        "# para melhor visualizar essa tendência vamos plotar o gráfico em um quadrado\n",
        "\n",
        "plt.figure(figsize=(6,6))\n",
        "sns.scatterplot(data=populacao, x='populacao', y='gastos')\n"
      ],
      "execution_count": 38,
      "outputs": [
        {
          "output_type": "execute_result",
          "data": {
            "text/plain": [
              "<matplotlib.axes._subplots.AxesSubplot at 0x7f4dc33a56d0>"
            ]
          },
          "metadata": {
            "tags": []
          },
          "execution_count": 38
        },
        {
          "output_type": "display_data",
          "data": {
            "image/png": "[encoded data removed]",
            "text/plain": [
              "<Figure size 432x432 with 1 Axes>"
            ]
          },
          "metadata": {
            "tags": [],
            "needs_background": "light"
          }
        }
      ]
    },
    {
      "cell_type": "code",
      "metadata": {
        "colab": {
          "base_uri": "https://localhost:8080/",
          "height": 405
        },
        "id": "A7wV3U172cAA",
        "outputId": "6cf2e367-3eb5-42ca-c4d3-4642e3d2626f"
      },
      "source": [
        "# plotando o mesmo gráfico agora com o gasto por habitante\n",
        "plt.figure(figsize=(6,6))\n",
        "sns.scatterplot(data=populacao, x='populacao', y='gasto_por_habitante')"
      ],
      "execution_count": 39,
      "outputs": [
        {
          "output_type": "execute_result",
          "data": {
            "text/plain": [
              "<matplotlib.axes._subplots.AxesSubplot at 0x7f4dc33a5150>"
            ]
          },
          "metadata": {
            "tags": []
          },
          "execution_count": 39
        },
        {
          "output_type": "display_data",
          "data": {
            "image/png": "[encoded data removed]",
            "text/plain": [
              "<Figure size 432x432 with 1 Axes>"
            ]
          },
          "metadata": {
            "tags": [],
            "needs_background": "light"
          }
        }
      ]
    },
    {
      "cell_type": "code",
      "metadata": {
        "id": "XZ7zxswY247Z"
      },
      "source": [
        ""
      ],
      "execution_count": 39,
      "outputs": []
    },
    {
      "cell_type": "markdown",
      "metadata": {
        "id": "tQjzop2_3ay6"
      },
      "source": [
        "# Desafio 01: Ordenar o gráfico e criar uma visualização de gastos por habitantes ordenada."
      ]
    },
    {
      "cell_type": "code",
      "metadata": {
        "colab": {
          "base_uri": "https://localhost:8080/",
          "height": 235
        },
        "id": "q4rWkLKq3blE",
        "outputId": "e0981acf-f70e-4d93-ab20-69ba11bb900a"
      },
      "source": [
        "populacao.head()"
      ],
      "execution_count": 40,
      "outputs": [
        {
          "output_type": "execute_result",
          "data": {
            "text/html": [
              "<div>\n",
              "<style scoped>\n",
              "    .dataframe tbody tr th:only-of-type {\n",
              "        vertical-align: middle;\n",
              "    }\n",
              "\n",
              "    .dataframe tbody tr th {\n",
              "        vertical-align: top;\n",
              "    }\n",
              "\n",
              "    .dataframe thead th {\n",
              "        text-align: right;\n",
              "    }\n",
              "</style>\n",
              "<table border=\"1\" class=\"dataframe\">\n",
              "  <thead>\n",
              "    <tr style=\"text-align: right;\">\n",
              "      <th></th>\n",
              "      <th>populacao</th>\n",
              "      <th>2020/Dez</th>\n",
              "      <th>gastos</th>\n",
              "      <th>gasto_por_habitante</th>\n",
              "    </tr>\n",
              "    <tr>\n",
              "      <th>uf</th>\n",
              "      <th></th>\n",
              "      <th></th>\n",
              "      <th></th>\n",
              "      <th></th>\n",
              "    </tr>\n",
              "  </thead>\n",
              "  <tbody>\n",
              "    <tr>\n",
              "      <th>São Paulo</th>\n",
              "      <td>46289333</td>\n",
              "      <td>326.85</td>\n",
              "      <td>326846228.95</td>\n",
              "      <td>7.06</td>\n",
              "    </tr>\n",
              "    <tr>\n",
              "      <th>Minas Gerais</th>\n",
              "      <td>21292666</td>\n",
              "      <td>166.38</td>\n",
              "      <td>166376967.67</td>\n",
              "      <td>7.81</td>\n",
              "    </tr>\n",
              "    <tr>\n",
              "      <th>Rio de Janeiro</th>\n",
              "      <td>17366189</td>\n",
              "      <td>90.57</td>\n",
              "      <td>90567351.87</td>\n",
              "      <td>5.22</td>\n",
              "    </tr>\n",
              "    <tr>\n",
              "      <th>Bahia</th>\n",
              "      <td>14930634</td>\n",
              "      <td>83.13</td>\n",
              "      <td>83131785.74</td>\n",
              "      <td>5.57</td>\n",
              "    </tr>\n",
              "    <tr>\n",
              "      <th>Paraná</th>\n",
              "      <td>11516840</td>\n",
              "      <td>122.15</td>\n",
              "      <td>122146256.92</td>\n",
              "      <td>10.61</td>\n",
              "    </tr>\n",
              "  </tbody>\n",
              "</table>\n",
              "</div>"
            ],
            "text/plain": [
              "                populacao  2020/Dez       gastos  gasto_por_habitante\n",
              "uf                                                                   \n",
              "São Paulo        46289333    326.85 326846228.95                 7.06\n",
              "Minas Gerais     21292666    166.38 166376967.67                 7.81\n",
              "Rio de Janeiro   17366189     90.57  90567351.87                 5.22\n",
              "Bahia            14930634     83.13  83131785.74                 5.57\n",
              "Paraná           11516840    122.15 122146256.92                10.61"
            ]
          },
          "metadata": {
            "tags": []
          },
          "execution_count": 40
        }
      ]
    },
    {
      "cell_type": "code",
      "metadata": {
        "colab": {
          "base_uri": "https://localhost:8080/",
          "height": 235
        },
        "id": "zTWZD2wH3mXh",
        "outputId": "642345e5-f860-4135-fda1-a6174a152395"
      },
      "source": [
        "ordenado_gasto_habit = populacao.sort_values(by='gasto_por_habitante', ascending=False)\n",
        "ordenado_gasto_habit.head()"
      ],
      "execution_count": 41,
      "outputs": [
        {
          "output_type": "execute_result",
          "data": {
            "text/html": [
              "<div>\n",
              "<style scoped>\n",
              "    .dataframe tbody tr th:only-of-type {\n",
              "        vertical-align: middle;\n",
              "    }\n",
              "\n",
              "    .dataframe tbody tr th {\n",
              "        vertical-align: top;\n",
              "    }\n",
              "\n",
              "    .dataframe thead th {\n",
              "        text-align: right;\n",
              "    }\n",
              "</style>\n",
              "<table border=\"1\" class=\"dataframe\">\n",
              "  <thead>\n",
              "    <tr style=\"text-align: right;\">\n",
              "      <th></th>\n",
              "      <th>populacao</th>\n",
              "      <th>2020/Dez</th>\n",
              "      <th>gastos</th>\n",
              "      <th>gasto_por_habitante</th>\n",
              "    </tr>\n",
              "    <tr>\n",
              "      <th>uf</th>\n",
              "      <th></th>\n",
              "      <th></th>\n",
              "      <th></th>\n",
              "      <th></th>\n",
              "    </tr>\n",
              "  </thead>\n",
              "  <tbody>\n",
              "    <tr>\n",
              "      <th>Paraná</th>\n",
              "      <td>11516840</td>\n",
              "      <td>122.15</td>\n",
              "      <td>122146256.92</td>\n",
              "      <td>10.61</td>\n",
              "    </tr>\n",
              "    <tr>\n",
              "      <th>Rio Grande do Sul</th>\n",
              "      <td>11422973</td>\n",
              "      <td>116.83</td>\n",
              "      <td>116833971.73</td>\n",
              "      <td>10.23</td>\n",
              "    </tr>\n",
              "    <tr>\n",
              "      <th>Santa Catarina</th>\n",
              "      <td>7252502</td>\n",
              "      <td>72.72</td>\n",
              "      <td>72720675.11</td>\n",
              "      <td>10.03</td>\n",
              "    </tr>\n",
              "    <tr>\n",
              "      <th>Espírito Santo</th>\n",
              "      <td>4064052</td>\n",
              "      <td>40.50</td>\n",
              "      <td>40500910.57</td>\n",
              "      <td>9.97</td>\n",
              "    </tr>\n",
              "    <tr>\n",
              "      <th>Pernambuco</th>\n",
              "      <td>9616621</td>\n",
              "      <td>77.88</td>\n",
              "      <td>77877186.72</td>\n",
              "      <td>8.10</td>\n",
              "    </tr>\n",
              "  </tbody>\n",
              "</table>\n",
              "</div>"
            ],
            "text/plain": [
              "                   populacao  2020/Dez       gastos  gasto_por_habitante\n",
              "uf                                                                      \n",
              "Paraná              11516840    122.15 122146256.92                10.61\n",
              "Rio Grande do Sul   11422973    116.83 116833971.73                10.23\n",
              "Santa Catarina       7252502     72.72  72720675.11                10.03\n",
              "Espírito Santo       4064052     40.50  40500910.57                 9.97\n",
              "Pernambuco           9616621     77.88  77877186.72                 8.10"
            ]
          },
          "metadata": {
            "tags": []
          },
          "execution_count": 41
        }
      ]
    },
    {
      "cell_type": "code",
      "metadata": {
        "colab": {
          "base_uri": "https://localhost:8080/",
          "height": 388
        },
        "id": "VAL-uPaC37tQ",
        "outputId": "72f8b1d7-0597-4a74-db57-7bab66712b59"
      },
      "source": [
        "ordenado_gasto_habit['gasto_por_habitante'].plot(kind='bar')"
      ],
      "execution_count": 42,
      "outputs": [
        {
          "output_type": "execute_result",
          "data": {
            "text/plain": [
              "<matplotlib.axes._subplots.AxesSubplot at 0x7f4dc328f290>"
            ]
          },
          "metadata": {
            "tags": []
          },
          "execution_count": 42
        },
        {
          "output_type": "display_data",
          "data": {
            "image/png": "[encoded data removed]",
            "text/plain": [
              "<Figure size 432x288 with 1 Axes>"
            ]
          },
          "metadata": {
            "tags": [],
            "needs_background": "light"
          }
        }
      ]
    },
    {
      "cell_type": "markdown",
      "metadata": {
        "id": "uM9Cjykx3b81"
      },
      "source": [
        "# Desafio 02 (Super Desafio Gui): Fazer os mesmos gráficos do final da aulas 2.1 para meses anteriores, analisar e compartilhar suas hipóteses."
      ]
    },
    {
      "cell_type": "code",
      "metadata": {
        "colab": {
          "base_uri": "https://localhost:8080/"
        },
        "id": "k-91YILh3gD8",
        "outputId": "3db00434-abf6-4af7-8e20-236da38bb2fd"
      },
      "source": [
        "dados_novembro = ordenado_por_total['2020/Nov']\n",
        "dados_novembro.index = dados_novembro.index.str[3:]\n",
        "populacao['2020/Nov'] = dados_novembro\n",
        "dados_novembro.index\n"
      ],
      "execution_count": 43,
      "outputs": [
        {
          "output_type": "execute_result",
          "data": {
            "text/plain": [
              "Index(['São Paulo', 'Minas Gerais', 'Paraná', 'Rio Grande do Sul',\n",
              "       'Rio de Janeiro', 'Bahia', 'Pernambuco', 'Santa Catarina', 'Ceará',\n",
              "       'Goiás', 'Pará', 'Maranhão', 'Espírito Santo', 'Rio Grande do Norte',\n",
              "       'Paraíba', 'Distrito Federal', 'Mato Grosso do Sul', 'Piauí', 'Alagoas',\n",
              "       'Mato Grosso', 'Amazonas', 'Sergipe', 'Tocantins', 'Rondônia', 'Acre',\n",
              "       'Roraima', 'Amapá'],\n",
              "      dtype='object', name='Unidade da Federação')"
            ]
          },
          "metadata": {
            "tags": []
          },
          "execution_count": 43
        }
      ]
    },
    {
      "cell_type": "code",
      "metadata": {
        "colab": {
          "base_uri": "https://localhost:8080/",
          "height": 307
        },
        "id": "9TiqDu7E56yC",
        "outputId": "ea63371d-9420-4d14-cea7-878d6fabeb88"
      },
      "source": [
        "sns.scatterplot(data=populacao, x='populacao', y='2020/Nov')"
      ],
      "execution_count": 45,
      "outputs": [
        {
          "output_type": "execute_result",
          "data": {
            "text/plain": [
              "<matplotlib.axes._subplots.AxesSubplot at 0x7f4dc30eec10>"
            ]
          },
          "metadata": {
            "tags": []
          },
          "execution_count": 45
        },
        {
          "output_type": "display_data",
          "data": {
            "image/png": "[encoded data removed]",
            "text/plain": [
              "<Figure size 432x288 with 1 Axes>"
            ]
          },
          "metadata": {
            "tags": [],
            "needs_background": "light"
          }
        }
      ]
    },
    {
      "cell_type": "code",
      "metadata": {
        "colab": {
          "base_uri": "https://localhost:8080/",
          "height": 470
        },
        "id": "Ks6l5qjW6NN_",
        "outputId": "19e8828c-aee5-4ccd-e764-e52ff6dbdc43"
      },
      "source": [
        "plt.figure(figsize=(7,7))\n",
        "sns.scatterplot(data=populacao, x='populacao', y='2020/Nov')"
      ],
      "execution_count": 46,
      "outputs": [
        {
          "output_type": "execute_result",
          "data": {
            "text/plain": [
              "<matplotlib.axes._subplots.AxesSubplot at 0x7f4dc2c23e50>"
            ]
          },
          "metadata": {
            "tags": []
          },
          "execution_count": 46
        },
        {
          "output_type": "display_data",
          "data": {
            "image/png": "[encoded data removed]",
            "text/plain": [
              "<Figure size 504x504 with 1 Axes>"
            ]
          },
          "metadata": {
            "tags": [],
            "needs_background": "light"
          }
        }
      ]
    },
    {
      "cell_type": "markdown",
      "metadata": {
        "id": "hruXZATn6nFQ"
      },
      "source": [
        "## Com os gráficos dos meses de novembro e dezembro de 2020 podemos ver que não existe uma grande variação de gasto por habitante nesse período.\n",
        "\n",
        "## Essa pequena variação pode-se dar pela pouca variação na infraestrutura do SUS, dessa maneira o sistema sempre opera perto de sua capacidade máxima, ainda mais em um período de pandemia.\n",
        "\n",
        "## Com os recursos do SUS sendo utilizados quase em sua totalidade, não deveríamos ver uma grande diferença de um mês para o outro."
      ]
    },
    {
      "cell_type": "markdown",
      "metadata": {
        "id": "f4VGJVQg3gdA"
      },
      "source": [
        "# Desafio 03 (Super Desafio Thiago): Plotar no mesmos gráficos do final da aula o mês anterior e o mês correte, analisar e compartilhar suas hipóteses."
      ]
    },
    {
      "cell_type": "code",
      "metadata": {
        "colab": {
          "base_uri": "https://localhost:8080/",
          "height": 416
        },
        "id": "ZPa1HoDx3jYw",
        "outputId": "39101add-6035-49a1-8d7e-98f278edb760"
      },
      "source": [
        "plt.figure(figsize=(6,6))\n",
        "ax1 = sns.scatterplot(data=populacao, x='populacao', y='gastos', color='darkblue')\n",
        "sns.scatterplot(data=populacao, x='populacao', y='2020/Nov', ax=ax1, color='red')"
      ],
      "execution_count": 51,
      "outputs": [
        {
          "output_type": "execute_result",
          "data": {
            "text/plain": [
              "<matplotlib.axes._subplots.AxesSubplot at 0x7f4dc282c950>"
            ]
          },
          "metadata": {
            "tags": []
          },
          "execution_count": 51
        },
        {
          "output_type": "display_data",
          "data": {
            "image/png": "[encoded data removed]",
            "text/plain": [
              "<Figure size 432x432 with 1 Axes>"
            ]
          },
          "metadata": {
            "tags": [],
            "needs_background": "light"
          }
        }
      ]
    },
    {
      "cell_type": "markdown",
      "metadata": {
        "id": "bW-UF0hz_FAL"
      },
      "source": [
        "# Desafio 04 (Próximo Vídeo): Analise os gráficos e tente chegar a hipóteses que explicam o que você está entendendo dos dados. Lembre-se que a conclusão é uma hipótese. E que esses dados serão alterados."
      ]
    },
    {
      "cell_type": "markdown",
      "metadata": {
        "id": "4rIT7ZVe87vR"
      },
      "source": [
        "## Podemos ver que os gastos em comparação com a população segue uma tendência ao longo desse período.\n",
        "\n",
        "## Acredito que isso seja mais perceptível por estarmos analisando um período curto (2 meses) entre esses dados. Dessa maneira não temos uma mudança significativa na infraestrutura do SUS e por estarmos em um périodo de pandemia o SUS está sob ainda maior estresse. Isso faz com que seus recursos estejam sendo utilizado quase em sua totalidade por um longo período de tempo, o que mantém os gastos praticamente iguais."
      ]
    },
    {
      "cell_type": "code",
      "metadata": {
        "id": "Slj7oFTQ8lfI"
      },
      "source": [
        ""
      ],
      "execution_count": null,
      "outputs": []
    }
  ]
}