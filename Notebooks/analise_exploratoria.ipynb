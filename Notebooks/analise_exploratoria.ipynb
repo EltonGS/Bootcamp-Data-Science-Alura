{
  "nbformat": 4,
  "nbformat_minor": 0,
  "metadata": {
    "colab": {
      "name": "analise_exploratoria.ipynb",
      "provenance": [],
      "authorship_tag": "ABX9TyOjo5kQwMuXDjtRk2Hbhqyq",
      "include_colab_link": true
    },
    "kernelspec": {
      "name": "python3",
      "display_name": "Python 3"
    },
    "language_info": {
      "name": "python"
    }
  },
  "cells": [
    {
      "cell_type": "markdown",
      "metadata": {
        "id": "view-in-github",
        "colab_type": "text"
      },
      "source": [
        "<a href=\"https://colab.research.google.com/github/EltonGS/Bootcamp-Data-Science-Alura/blob/main/Notebooks/analise_exploratoria.ipynb\" target=\"_parent\"><img src=\"https://colab.research.google.com/assets/colab-badge.svg\" alt=\"Open In Colab\"/></a>"
      ]
    },
    {
      "cell_type": "code",
      "metadata": {
        "id": "dPxaN_ecnYtL"
      },
      "source": [
        "# importando as bibliotecas a serem utilizadas\n",
        "import pandas as pd\n",
        "import matplotlib.pyplot as plt\n",
        "import seaborn as sns\n",
        "from datetime import date\n",
        "\n",
        "# endereços dos dados\n",
        "url_casos = 'https://raw.githubusercontent.com/EltonGS/vacinacao_bcg_estados/main/Dados_Tratados/dados_casos_tb.csv'\n",
        "url_vac = 'https://raw.githubusercontent.com/EltonGS/vacinacao_bcg_estados/main/Dados_Tratados/dados_vac_tb.csv'\n",
        "\n",
        "# lendo os dados já tratados\n",
        "dados_casos_tb = pd.read_csv(url_casos)\n",
        "dados_vac_tb = pd.read_csv(url_vac)"
      ],
      "execution_count": 1,
      "outputs": []
    },
    {
      "cell_type": "code",
      "metadata": {
        "id": "bALPimt8sOyK"
      },
      "source": [
        "# função para definir a coluna com o ano como um dado do tipo datetime\n",
        "def definir_ano (ano: str):\n",
        "  ano_int = int(ano)\n",
        "  \n",
        "  return date(ano_int, 1, 1)\n",
        "\n",
        "# mapeando a função definida acima para manipular os valores da coluna ano\n",
        "dados_casos_tb['ano'] = dados_casos_tb['ano'].map(definir_ano)\n",
        "dados_vac_tb['ano'] = dados_vac_tb['ano'].map(definir_ano)\n",
        "\n",
        "# transformando os valores da coluna em um dado do tipo datetime64\n",
        "dados_casos_tb['ano'] = dados_casos_tb['ano'].astype('datetime64')\n",
        "dados_vac_tb['ano'] = dados_vac_tb['ano'].astype('datetime64')"
      ],
      "execution_count": 2,
      "outputs": []
    },
    {
      "cell_type": "code",
      "metadata": {
        "id": "Wl9rIU_qoIgV"
      },
      "source": [
        "# somando os casos com base nos anos para verificar os casos de turberculose no Brasil\n",
        "casos_por_ano = dados_casos_tb.groupby('ano').sum().reset_index()\n",
        "casos_por_ano['ano'] = casos_por_ano['ano'].dt.year"
      ],
      "execution_count": 3,
      "outputs": []
    },
    {
      "cell_type": "code",
      "metadata": {
        "colab": {
          "base_uri": "https://localhost:8080/",
          "height": 414
        },
        "id": "yUc9wq3Nv0VD",
        "outputId": "30a60b6f-e9cc-4b3f-848d-4c67a012209d"
      },
      "source": [
        "#plotando o gráfico para visualizar os dados do Brasil\n",
        "sns.set_theme()\n",
        "plt.figure(figsize=(14, 14))\n",
        "ax = sns.catplot(data=casos_por_ano, x='n_casos_tb', hue='n_casos_tb', dodge=False, y='ano', kind='bar', palette=sns.color_palette(\"rocket_r\", 20),\n",
        "            legend=False, orient='h')\n",
        "\n",
        "plt.title('Casos de turberbulose no Brasil', fontsize=15, fontweight='bold', color='maroon')\n",
        "plt.ylabel('ANO', fontsize=10, fontweight='bold', color='maroon')\n",
        "plt.xlabel('CASOS DE TUBERCULOSE', fontsize=10, fontweight='bold', color='maroon')\n",
        "plt.show()"
      ],
      "execution_count": 10,
      "outputs": [
        {
          "output_type": "display_data",
          "data": {
            "text/plain": [
              "<Figure size 1008x1008 with 0 Axes>"
            ]
          },
          "metadata": {
            "tags": []
          }
        },
        {
          "output_type": "display_data",
          "data": {
            "image/png": "[encoded data removed]",
            "text/plain": [
              "<Figure size 360x360 with 1 Axes>"
            ]
          },
          "metadata": {
            "tags": []
          }
        }
      ]
    },
    {
      "cell_type": "code",
      "metadata": {
        "id": "Rhl_Zq2szJL1"
      },
      "source": [
        ""
      ],
      "execution_count": 4,
      "outputs": []
    }
  ]
}